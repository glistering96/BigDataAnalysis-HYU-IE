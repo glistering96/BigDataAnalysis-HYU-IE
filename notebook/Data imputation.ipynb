{
 "cells": [
  {
   "cell_type": "code",
   "execution_count": 1,
   "metadata": {
    "collapsed": true,
    "pycharm": {
     "name": "#%%\n"
    }
   },
   "outputs": [],
   "source": [
    "import pandas as pd\n",
    "import warnings\n",
    "warnings.filterwarnings('ignore')"
   ]
  },
  {
   "cell_type": "code",
   "execution_count": 2,
   "metadata": {
    "collapsed": false,
    "pycharm": {
     "name": "#%%\n"
    }
   },
   "outputs": [
    {
     "data": {
      "text/plain": "                                       title            location  \\\n0                           Marketing Intern    US, NY, New York   \n1  Customer Service - Cloud Video Production      NZ, , Auckland   \n2    Commissioning Machinery Assistant (CMA)       US, IA, Wever   \n3          Account Executive - Washington DC  US, DC, Washington   \n4                        Bill Review Manager  US, FL, Fort Worth   \n\n                                     company_profile  \\\n0  We're Food52, and we've created a groundbreaki...   \n1  90 Seconds, the worlds Cloud Video Production ...   \n2  Valor Services provides Workforce Solutions th...   \n3  Our passion for improving quality of life thro...   \n4  SpotSource Solutions LLC is a Global Human Cap...   \n\n                                         description  \\\n0  Food52, a fast-growing, James Beard Award-winn...   \n1  Organised - Focused - Vibrant - Awesome!Do you...   \n2  Our client, located in Houston, is actively se...   \n3  THE COMPANY: ESRI – Environmental Systems Rese...   \n4  JOB TITLE: Itemization Review ManagerLOCATION:...   \n\n                                        requirements  \\\n0  Experience with content management systems a m...   \n1  What we expect from you:Your key responsibilit...   \n2  Implement pre-commissioning and commissioning ...   \n3  EDUCATION: Bachelor’s or Master’s in GIS, busi...   \n4  QUALIFICATIONS:RN license in the State of Texa...   \n\n                                            benefits  telecommuting  \\\n0                                                NaN              0   \n1  What you will get from usThrough being part of...              0   \n2                                                NaN              0   \n3  Our culture is anything but corporate—we have ...              0   \n4                              Full Benefits Offered              0   \n\n   has_company_logo  has_questions employment_type required_experience  \\\n0                 1              0           Other          Internship   \n1                 1              0       Full-time      Not Applicable   \n2                 1              0             NaN                 NaN   \n3                 1              0       Full-time    Mid-Senior level   \n4                 1              1       Full-time    Mid-Senior level   \n\n  required_education                   industry              function  \\\n0                NaN                        NaN             Marketing   \n1                NaN  Marketing and Advertising      Customer Service   \n2                NaN                        NaN                   NaN   \n3  Bachelor's Degree          Computer Software                 Sales   \n4  Bachelor's Degree     Hospital & Health Care  Health Care Provider   \n\n   fraudulent  \n0           0  \n1           0  \n2           0  \n3           0  \n4           0  ",
      "text/html": "<div>\n<style scoped>\n    .dataframe tbody tr th:only-of-type {\n        vertical-align: middle;\n    }\n\n    .dataframe tbody tr th {\n        vertical-align: top;\n    }\n\n    .dataframe thead th {\n        text-align: right;\n    }\n</style>\n<table border=\"1\" class=\"dataframe\">\n  <thead>\n    <tr style=\"text-align: right;\">\n      <th></th>\n      <th>title</th>\n      <th>location</th>\n      <th>company_profile</th>\n      <th>description</th>\n      <th>requirements</th>\n      <th>benefits</th>\n      <th>telecommuting</th>\n      <th>has_company_logo</th>\n      <th>has_questions</th>\n      <th>employment_type</th>\n      <th>required_experience</th>\n      <th>required_education</th>\n      <th>industry</th>\n      <th>function</th>\n      <th>fraudulent</th>\n    </tr>\n  </thead>\n  <tbody>\n    <tr>\n      <th>0</th>\n      <td>Marketing Intern</td>\n      <td>US, NY, New York</td>\n      <td>We're Food52, and we've created a groundbreaki...</td>\n      <td>Food52, a fast-growing, James Beard Award-winn...</td>\n      <td>Experience with content management systems a m...</td>\n      <td>NaN</td>\n      <td>0</td>\n      <td>1</td>\n      <td>0</td>\n      <td>Other</td>\n      <td>Internship</td>\n      <td>NaN</td>\n      <td>NaN</td>\n      <td>Marketing</td>\n      <td>0</td>\n    </tr>\n    <tr>\n      <th>1</th>\n      <td>Customer Service - Cloud Video Production</td>\n      <td>NZ, , Auckland</td>\n      <td>90 Seconds, the worlds Cloud Video Production ...</td>\n      <td>Organised - Focused - Vibrant - Awesome!Do you...</td>\n      <td>What we expect from you:Your key responsibilit...</td>\n      <td>What you will get from usThrough being part of...</td>\n      <td>0</td>\n      <td>1</td>\n      <td>0</td>\n      <td>Full-time</td>\n      <td>Not Applicable</td>\n      <td>NaN</td>\n      <td>Marketing and Advertising</td>\n      <td>Customer Service</td>\n      <td>0</td>\n    </tr>\n    <tr>\n      <th>2</th>\n      <td>Commissioning Machinery Assistant (CMA)</td>\n      <td>US, IA, Wever</td>\n      <td>Valor Services provides Workforce Solutions th...</td>\n      <td>Our client, located in Houston, is actively se...</td>\n      <td>Implement pre-commissioning and commissioning ...</td>\n      <td>NaN</td>\n      <td>0</td>\n      <td>1</td>\n      <td>0</td>\n      <td>NaN</td>\n      <td>NaN</td>\n      <td>NaN</td>\n      <td>NaN</td>\n      <td>NaN</td>\n      <td>0</td>\n    </tr>\n    <tr>\n      <th>3</th>\n      <td>Account Executive - Washington DC</td>\n      <td>US, DC, Washington</td>\n      <td>Our passion for improving quality of life thro...</td>\n      <td>THE COMPANY: ESRI – Environmental Systems Rese...</td>\n      <td>EDUCATION: Bachelor’s or Master’s in GIS, busi...</td>\n      <td>Our culture is anything but corporate—we have ...</td>\n      <td>0</td>\n      <td>1</td>\n      <td>0</td>\n      <td>Full-time</td>\n      <td>Mid-Senior level</td>\n      <td>Bachelor's Degree</td>\n      <td>Computer Software</td>\n      <td>Sales</td>\n      <td>0</td>\n    </tr>\n    <tr>\n      <th>4</th>\n      <td>Bill Review Manager</td>\n      <td>US, FL, Fort Worth</td>\n      <td>SpotSource Solutions LLC is a Global Human Cap...</td>\n      <td>JOB TITLE: Itemization Review ManagerLOCATION:...</td>\n      <td>QUALIFICATIONS:RN license in the State of Texa...</td>\n      <td>Full Benefits Offered</td>\n      <td>0</td>\n      <td>1</td>\n      <td>1</td>\n      <td>Full-time</td>\n      <td>Mid-Senior level</td>\n      <td>Bachelor's Degree</td>\n      <td>Hospital &amp; Health Care</td>\n      <td>Health Care Provider</td>\n      <td>0</td>\n    </tr>\n  </tbody>\n</table>\n</div>"
     },
     "execution_count": 2,
     "metadata": {},
     "output_type": "execute_result"
    }
   ],
   "source": [
    "df = pd.read_csv('../data/fake_job_postings.csv', engine = 'python')\n",
    "df = df.drop(['job_id'], axis = 1)\n",
    "# 대부분 missing 인 col 제거\n",
    "df = df.drop(['department','salary_range'], axis = 1)\n",
    "df.head()"
   ]
  },
  {
   "cell_type": "code",
   "execution_count": 3,
   "metadata": {
    "collapsed": false,
    "pycharm": {
     "name": "#%%\n"
    }
   },
   "outputs": [
    {
     "name": "stdout",
     "output_type": "stream",
     "text": [
      "location null의 fake job posting 비율 :  0.05491329479768786\n",
      "비율 차이 적으므로 mode로 imputation\n"
     ]
    }
   ],
   "source": [
    "# location 전처리\n",
    "\n",
    "print('location null의 fake job posting 비율 : ', df[df['location'].isnull() ==True]['fraudulent'].value_counts()[1]/df[df['location'].isnull() ==True].shape[0])\n",
    "\n",
    "# 국가명만 남기기\n",
    "df['location'] = df['location'].apply(lambda x : str(x).split(',')[0])\n",
    "\n",
    "# mode로 대체\n",
    "df[df['location'].isnull() ==True]['location'] = df['location'].mode()[0]\n",
    "# 10개 이상의 관측치 보유 location 만 남기기\n",
    "loc_val_count = df['location'].value_counts()\n",
    "loc_over_10 = loc_val_count[loc_val_count>10].index\n",
    "df = df[df['location'].isin(loc_over_10)].reset_index(drop=True)\n",
    "\n",
    "print(\"비율 차이 적으므로 mode로 imputation\")\n"
   ]
  },
  {
   "cell_type": "code",
   "execution_count": 4,
   "metadata": {
    "collapsed": false,
    "pycharm": {
     "name": "#%%\n"
    }
   },
   "outputs": [
    {
     "name": "stdout",
     "output_type": "stream",
     "text": [
      "required_experience 의 unique col 개수(nan포함) : 8\n",
      "required_experience 의 missing 개수 : 6985\n",
      "required_experience\n",
      "Mid-Senior level    3772\n",
      "Entry level         2674\n",
      "Associate           2278\n",
      "Not Applicable      1096\n",
      "Director             385\n",
      "Internship           380\n",
      "Executive            140\n",
      "Name: count, dtype: int64\n"
     ]
    }
   ],
   "source": [
    "# required_experience 전처리\n",
    "print('required_experience 의 unique col 개수(nan포함) :',len(df['required_experience'].unique()))\n",
    "print('required_experience 의 missing 개수 :',df['required_experience'].isnull().sum())\n",
    "print(df['required_experience'].value_counts())\n",
    "# sns.barplot(data=df, x='required_experience',y='fraudulent')"
   ]
  },
  {
   "cell_type": "code",
   "execution_count": 6,
   "metadata": {
    "pycharm": {
     "name": "#%%\n"
    }
   },
   "outputs": [
    {
     "ename": "FileNotFoundError",
     "evalue": "Could not find module 'C:\\Users\\glist\\PycharmProjects\\BigDataAnalysis-HYU-IE\\venv\\lib\\site-packages\\mxnet\\libmxnet.dll' (or one of its dependencies). Try using the full path with constructor syntax.",
     "output_type": "error",
     "traceback": [
      "\u001B[1;31m---------------------------------------------------------------------------\u001B[0m",
      "\u001B[1;31mFileNotFoundError\u001B[0m                         Traceback (most recent call last)",
      "Cell \u001B[1;32mIn[6], line 1\u001B[0m\n\u001B[1;32m----> 1\u001B[0m \u001B[38;5;28;01mimport\u001B[39;00m \u001B[38;5;21;01mdatawig\u001B[39;00m\n\u001B[0;32m      3\u001B[0m df_train, df_test \u001B[38;5;241m=\u001B[39m datawig\u001B[38;5;241m.\u001B[39mutils\u001B[38;5;241m.\u001B[39mrandom_split(df)\n",
      "File \u001B[1;32m~\\PycharmProjects\\BigDataAnalysis-HYU-IE\\venv\\lib\\site-packages\\datawig\\__init__.py:2\u001B[0m\n\u001B[0;32m      1\u001B[0m \u001B[38;5;66;03m# makes the column encoders available as e.g. `from datawig import CategoricalEncoder`\u001B[39;00m\n\u001B[1;32m----> 2\u001B[0m \u001B[38;5;28;01mfrom\u001B[39;00m \u001B[38;5;21;01m.\u001B[39;00m\u001B[38;5;21;01mcolumn_encoders\u001B[39;00m \u001B[38;5;28;01mimport\u001B[39;00m CategoricalEncoder, BowEncoder, NumericalEncoder, SequentialEncoder\n\u001B[0;32m      3\u001B[0m \u001B[38;5;28;01mfrom\u001B[39;00m \u001B[38;5;21;01m.\u001B[39;00m\u001B[38;5;21;01mmxnet_input_symbols\u001B[39;00m \u001B[38;5;28;01mimport\u001B[39;00m BowFeaturizer, LSTMFeaturizer, NumericalFeaturizer, EmbeddingFeaturizer\n\u001B[0;32m      4\u001B[0m \u001B[38;5;28;01mfrom\u001B[39;00m \u001B[38;5;21;01m.\u001B[39;00m\u001B[38;5;21;01msimple_imputer\u001B[39;00m \u001B[38;5;28;01mimport\u001B[39;00m SimpleImputer\n",
      "File \u001B[1;32m~\\PycharmProjects\\BigDataAnalysis-HYU-IE\\venv\\lib\\site-packages\\datawig\\column_encoders.py:26\u001B[0m\n\u001B[0;32m     23\u001B[0m \u001B[38;5;28;01mfrom\u001B[39;00m \u001B[38;5;21;01mfunctools\u001B[39;00m \u001B[38;5;28;01mimport\u001B[39;00m partial\n\u001B[0;32m     24\u001B[0m \u001B[38;5;28;01mfrom\u001B[39;00m \u001B[38;5;21;01mtyping\u001B[39;00m \u001B[38;5;28;01mimport\u001B[39;00m Any, Dict, Iterable, List\n\u001B[1;32m---> 26\u001B[0m \u001B[38;5;28;01mimport\u001B[39;00m \u001B[38;5;21;01mmxnet\u001B[39;00m \u001B[38;5;28;01mas\u001B[39;00m \u001B[38;5;21;01mmx\u001B[39;00m\n\u001B[0;32m     27\u001B[0m \u001B[38;5;28;01mimport\u001B[39;00m \u001B[38;5;21;01mnumpy\u001B[39;00m \u001B[38;5;28;01mas\u001B[39;00m \u001B[38;5;21;01mnp\u001B[39;00m\n\u001B[0;32m     28\u001B[0m \u001B[38;5;28;01mimport\u001B[39;00m \u001B[38;5;21;01mpandas\u001B[39;00m \u001B[38;5;28;01mas\u001B[39;00m \u001B[38;5;21;01mpd\u001B[39;00m\n",
      "File \u001B[1;32m~\\PycharmProjects\\BigDataAnalysis-HYU-IE\\venv\\lib\\site-packages\\mxnet\\__init__.py:24\u001B[0m\n\u001B[0;32m     21\u001B[0m \u001B[38;5;124;03m\"\"\"MXNet: a concise, fast and flexible framework for deep learning.\"\"\"\u001B[39;00m\n\u001B[0;32m     22\u001B[0m \u001B[38;5;28;01mfrom\u001B[39;00m \u001B[38;5;21;01m__future__\u001B[39;00m \u001B[38;5;28;01mimport\u001B[39;00m absolute_import\n\u001B[1;32m---> 24\u001B[0m \u001B[38;5;28;01mfrom\u001B[39;00m \u001B[38;5;21;01m.\u001B[39;00m\u001B[38;5;21;01mcontext\u001B[39;00m \u001B[38;5;28;01mimport\u001B[39;00m Context, current_context, cpu, gpu, cpu_pinned\n\u001B[0;32m     25\u001B[0m \u001B[38;5;28;01mfrom\u001B[39;00m \u001B[38;5;21;01m.\u001B[39;00m \u001B[38;5;28;01mimport\u001B[39;00m engine\n\u001B[0;32m     26\u001B[0m \u001B[38;5;28;01mfrom\u001B[39;00m \u001B[38;5;21;01m.\u001B[39;00m\u001B[38;5;21;01mbase\u001B[39;00m \u001B[38;5;28;01mimport\u001B[39;00m MXNetError\n",
      "File \u001B[1;32m~\\PycharmProjects\\BigDataAnalysis-HYU-IE\\venv\\lib\\site-packages\\mxnet\\context.py:24\u001B[0m\n\u001B[0;32m     22\u001B[0m \u001B[38;5;28;01mimport\u001B[39;00m \u001B[38;5;21;01mwarnings\u001B[39;00m\n\u001B[0;32m     23\u001B[0m \u001B[38;5;28;01mimport\u001B[39;00m \u001B[38;5;21;01mctypes\u001B[39;00m\n\u001B[1;32m---> 24\u001B[0m \u001B[38;5;28;01mfrom\u001B[39;00m \u001B[38;5;21;01m.\u001B[39;00m\u001B[38;5;21;01mbase\u001B[39;00m \u001B[38;5;28;01mimport\u001B[39;00m classproperty, with_metaclass, _MXClassPropertyMetaClass\n\u001B[0;32m     25\u001B[0m \u001B[38;5;28;01mfrom\u001B[39;00m \u001B[38;5;21;01m.\u001B[39;00m\u001B[38;5;21;01mbase\u001B[39;00m \u001B[38;5;28;01mimport\u001B[39;00m _LIB\n\u001B[0;32m     26\u001B[0m \u001B[38;5;28;01mfrom\u001B[39;00m \u001B[38;5;21;01m.\u001B[39;00m\u001B[38;5;21;01mbase\u001B[39;00m \u001B[38;5;28;01mimport\u001B[39;00m check_call\n",
      "File \u001B[1;32m~\\PycharmProjects\\BigDataAnalysis-HYU-IE\\venv\\lib\\site-packages\\mxnet\\base.py:213\u001B[0m\n\u001B[0;32m    211\u001B[0m __version__ \u001B[38;5;241m=\u001B[39m libinfo\u001B[38;5;241m.\u001B[39m__version__\n\u001B[0;32m    212\u001B[0m \u001B[38;5;66;03m# library instance of mxnet\u001B[39;00m\n\u001B[1;32m--> 213\u001B[0m _LIB \u001B[38;5;241m=\u001B[39m \u001B[43m_load_lib\u001B[49m\u001B[43m(\u001B[49m\u001B[43m)\u001B[49m\n\u001B[0;32m    215\u001B[0m \u001B[38;5;66;03m# type definitions\u001B[39;00m\n\u001B[0;32m    216\u001B[0m mx_int \u001B[38;5;241m=\u001B[39m ctypes\u001B[38;5;241m.\u001B[39mc_int\n",
      "File \u001B[1;32m~\\PycharmProjects\\BigDataAnalysis-HYU-IE\\venv\\lib\\site-packages\\mxnet\\base.py:204\u001B[0m, in \u001B[0;36m_load_lib\u001B[1;34m()\u001B[0m\n\u001B[0;32m    202\u001B[0m \u001B[38;5;250m\u001B[39m\u001B[38;5;124;03m\"\"\"Load library by searching possible path.\"\"\"\u001B[39;00m\n\u001B[0;32m    203\u001B[0m lib_path \u001B[38;5;241m=\u001B[39m libinfo\u001B[38;5;241m.\u001B[39mfind_lib_path()\n\u001B[1;32m--> 204\u001B[0m lib \u001B[38;5;241m=\u001B[39m \u001B[43mctypes\u001B[49m\u001B[38;5;241;43m.\u001B[39;49m\u001B[43mCDLL\u001B[49m\u001B[43m(\u001B[49m\u001B[43mlib_path\u001B[49m\u001B[43m[\u001B[49m\u001B[38;5;241;43m0\u001B[39;49m\u001B[43m]\u001B[49m\u001B[43m,\u001B[49m\u001B[43m \u001B[49m\u001B[43mctypes\u001B[49m\u001B[38;5;241;43m.\u001B[39;49m\u001B[43mRTLD_LOCAL\u001B[49m\u001B[43m)\u001B[49m\n\u001B[0;32m    205\u001B[0m \u001B[38;5;66;03m# DMatrix functions\u001B[39;00m\n\u001B[0;32m    206\u001B[0m lib\u001B[38;5;241m.\u001B[39mMXGetLastError\u001B[38;5;241m.\u001B[39mrestype \u001B[38;5;241m=\u001B[39m ctypes\u001B[38;5;241m.\u001B[39mc_char_p\n",
      "File \u001B[1;32m~\\AppData\\Local\\Programs\\Python\\Python39\\lib\\ctypes\\__init__.py:374\u001B[0m, in \u001B[0;36mCDLL.__init__\u001B[1;34m(self, name, mode, handle, use_errno, use_last_error, winmode)\u001B[0m\n\u001B[0;32m    371\u001B[0m \u001B[38;5;28mself\u001B[39m\u001B[38;5;241m.\u001B[39m_FuncPtr \u001B[38;5;241m=\u001B[39m _FuncPtr\n\u001B[0;32m    373\u001B[0m \u001B[38;5;28;01mif\u001B[39;00m handle \u001B[38;5;129;01mis\u001B[39;00m \u001B[38;5;28;01mNone\u001B[39;00m:\n\u001B[1;32m--> 374\u001B[0m     \u001B[38;5;28mself\u001B[39m\u001B[38;5;241m.\u001B[39m_handle \u001B[38;5;241m=\u001B[39m \u001B[43m_dlopen\u001B[49m\u001B[43m(\u001B[49m\u001B[38;5;28;43mself\u001B[39;49m\u001B[38;5;241;43m.\u001B[39;49m\u001B[43m_name\u001B[49m\u001B[43m,\u001B[49m\u001B[43m \u001B[49m\u001B[43mmode\u001B[49m\u001B[43m)\u001B[49m\n\u001B[0;32m    375\u001B[0m \u001B[38;5;28;01melse\u001B[39;00m:\n\u001B[0;32m    376\u001B[0m     \u001B[38;5;28mself\u001B[39m\u001B[38;5;241m.\u001B[39m_handle \u001B[38;5;241m=\u001B[39m handle\n",
      "\u001B[1;31mFileNotFoundError\u001B[0m: Could not find module 'C:\\Users\\glist\\PycharmProjects\\BigDataAnalysis-HYU-IE\\venv\\lib\\site-packages\\mxnet\\libmxnet.dll' (or one of its dependencies). Try using the full path with constructor syntax."
     ]
    }
   ],
   "source": [
    "import datawig\n",
    "\n",
    "df_train, df_test = datawig.utils.random_split(df)"
   ]
  },
  {
   "cell_type": "code",
   "execution_count": 21,
   "metadata": {
    "collapsed": false,
    "pycharm": {
     "name": "#%%\n"
    }
   },
   "outputs": [
    {
     "data": {
      "text/plain": [
       "<datawig.simple_imputer.SimpleImputer at 0x1c2887fef48>"
      ]
     },
     "execution_count": 21,
     "metadata": {},
     "output_type": "execute_result"
    }
   ],
   "source": [
    "input_columns = list(set(df.columns) - set(['required_experience']))\n",
    "target_col_nm = 'required_experience'\n",
    "\n",
    "imputer = datawig.SimpleImputer(input_columns=input_columns,\n",
    "                                output_column=target_col_nm,\n",
    "                                output_path=f'../imputer/{target_col_nm}'\n",
    "                                )\n",
    "\n",
    "# imputer.fit_hpo(train_df=df,\n",
    "#                     learning_rate_candidates=[1e-3, 1e-4],\n",
    "#                     tokens_candidates=['chars', 'words'],\n",
    "#                     num_hash_bucket_candidates=[2**10, 2**15],\n",
    "#                     final_fc_hidden_units=[[100], [150]],\n",
    "#                     num_epochs=10\n",
    "#                    )\n",
    "\n",
    "imputer.fit(train_df=df_train, num_epochs=100,\n",
    "             batch_size=32)\n"
   ]
  },
  {
   "cell_type": "code",
   "execution_count": 30,
   "metadata": {
    "pycharm": {
     "name": "#%%\n"
    }
   },
   "outputs": [],
   "source": [
    "def impute_train_partially(df, target_col_nm):   \n",
    "    input_columns = list(set(df.columns) - set([target_col_nm]))\n",
    "\n",
    "    imputer = datawig.SimpleImputer(input_columns=input_columns,\n",
    "                                    output_column=target_col_nm,\n",
    "                                    output_path=f'../imputer/{target_col_nm}'\n",
    "                                    )\n",
    "    \n",
    "    imputer.fit(train_df=df_train, num_epochs=100,\n",
    "             batch_size=64)\n",
    "\n",
    "    imputed = imputer.predict(df_test)\n",
    "    \n",
    "    return pd.DataFrame(imputed)"
   ]
  },
  {
   "cell_type": "code",
   "execution_count": 31,
   "metadata": {
    "pycharm": {
     "name": "#%%\n"
    }
   },
   "outputs": [],
   "source": [
    "import mxnet as mx\n",
    "\n",
    "\n",
    "def impute_train_whole(df, target_col_nm):   \n",
    "    input_columns = list(set(df.columns) - set([target_col_nm]))\n",
    "\n",
    "    imputer = datawig.SimpleImputer(input_columns=input_columns,\n",
    "                                    output_column=target_col_nm,\n",
    "                                    output_path=f'../imputer/{target_col_nm}'\n",
    "                                    )\n",
    "    \n",
    "    imputer.fit(train_df=df, num_epochs=100, ctx=mx.gpu(0),\n",
    "             batch_size=64)\n",
    "\n",
    "    imputed = imputer.predict(df)\n",
    "    \n",
    "    return pd.DataFrame(imputed)"
   ]
  },
  {
   "cell_type": "code",
   "execution_count": 41,
   "metadata": {
    "pycharm": {
     "name": "#%%\n"
    }
   },
   "outputs": [
    {
     "data": {
      "text/plain": [
       "location                  0\n",
       "telecommuting             0\n",
       "has_company_logo          0\n",
       "has_questions             0\n",
       "employment_type        2758\n",
       "required_experience    5605\n",
       "required_education     6450\n",
       "industry               3921\n",
       "function               5121\n",
       "fraudulent                0\n",
       "dtype: int64"
      ]
     },
     "execution_count": 41,
     "metadata": {},
     "output_type": "execute_result"
    }
   ],
   "source": [
    "df_train.isna().sum()"
   ]
  },
  {
   "cell_type": "code",
   "execution_count": 47,
   "metadata": {
    "pycharm": {
     "name": "#%%\n"
    }
   },
   "outputs": [],
   "source": [
    "impute_result = {}\n",
    "\n",
    "for target_col_nm in ['employment_type','required_experience','required_education','industry','function']:\n",
    "    temp = df_train.copy(deep=True)\n",
    "    imputed = impute_train_whole(temp, target_col_nm)\n",
    "    na_replaced = temp[target_col_nm].fillna(imputed[f\"{target_col_nm}_imputed\"], inplace=False)\n",
    "    impute_result[target_col_nm] = na_replaced   \n",
    "    "
   ]
  },
  {
   "cell_type": "code",
   "execution_count": null,
   "metadata": {
    "pycharm": {
     "name": "#%%\n"
    }
   },
   "outputs": [],
   "source": []
  }
 ],
 "metadata": {
  "kernelspec": {
   "display_name": "Python 3",
   "language": "python",
   "name": "python3"
  },
  "language_info": {
   "codemirror_mode": {
    "name": "ipython",
    "version": 3
   },
   "file_extension": ".py",
   "mimetype": "text/x-python",
   "name": "python",
   "nbconvert_exporter": "python",
   "pygments_lexer": "ipython3",
   "version": "3.7.12"
  }
 },
 "nbformat": 4,
 "nbformat_minor": 0
}