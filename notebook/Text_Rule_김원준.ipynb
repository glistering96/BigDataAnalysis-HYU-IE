{
 "cells": [
  {
   "cell_type": "code",
   "execution_count": 1,
   "metadata": {},
   "outputs": [],
   "source": [
    "import numpy as np\n",
    "import pandas as pd\n",
    "import matplotlib.pyplot as plt\n",
    "import seaborn as sns\n",
    "\n",
    "from tqdm import tqdm\n",
    "import time\n",
    "import re\n",
    "import string\n",
    "import nltk\n",
    "from nltk.corpus import stopwords\n",
    "from nltk.tokenize import word_tokenize\n",
    "from pathlib import Path\n",
    "import sys"
   ]
  },
  {
   "cell_type": "code",
   "execution_count": 8,
   "metadata": {},
   "outputs": [],
   "source": [
    "# get add the Base directory\n",
    "BASE_DIR = str(Path().cwd().parent.resolve())\n",
    "sys.path.insert(0, BASE_DIR)\n",
    "TEXT_COLS = [1,5,6,7,8,17]"
   ]
  },
  {
   "cell_type": "code",
   "execution_count": 9,
   "metadata": {},
   "outputs": [],
   "source": [
    "df = pd.read_csv(f'{BASE_DIR}/data/fake_job_postings.csv', engine = 'python')"
   ]
  },
  {
   "cell_type": "code",
   "execution_count": 10,
   "metadata": {},
   "outputs": [],
   "source": [
    "only_fake = df[df['fraudulent'] == 1]\n",
    "only_real = df[df['fraudulent'] == 0]"
   ]
  },
  {
   "cell_type": "code",
   "execution_count": 13,
   "metadata": {},
   "outputs": [
    {
     "data": {
      "text/plain": [
       "Index(['title', 'company_profile', 'description', 'requirements', 'benefits',\n",
       "       'fraudulent'],\n",
       "      dtype='object')"
      ]
     },
     "execution_count": 13,
     "metadata": {},
     "output_type": "execute_result"
    }
   ],
   "source": [
    "only_fake_text.columns"
   ]
  },
  {
   "cell_type": "code",
   "execution_count": 20,
   "metadata": {},
   "outputs": [],
   "source": [
    "for col in only_fake_text.columns[:-1]:\n",
    "    for x in only_fake_text[col]:\n",
    "        if not isinstance(x, str):\n",
    "            print(x)"
   ]
  },
  {
   "cell_type": "code",
   "execution_count": 38,
   "metadata": {},
   "outputs": [],
   "source": [
    "import re\n",
    "\n",
    "# only fake's text\n",
    "only_fake_text = only_fake.iloc[:,TEXT_COLS].copy(deep=True)\n",
    "\n",
    "def remove_html_tags(df):\n",
    "    for col in df.columns:\n",
    "        if col == 'fraudulent':\n",
    "            continue\n",
    "\n",
    "        # replace &amp; to &\n",
    "        df[col] = df[col].str.replace(r'&amp;', '&')\n",
    "        \n",
    "        # replace &nbsp; to space\n",
    "        df[col] = df[col].str.replace(r'&nbsp;', ' ')\n",
    "        \n",
    "        # replace &lt; to <\n",
    "        df[col] = df[col].str.replace(r'&lt;', '<')\n",
    "        \n",
    "        # replace &gt; to >\n",
    "        df[col] = df[col].str.replace(r'&gt;', '>')\n",
    "        \n",
    "        # replace &quot; to \"\n",
    "        df[col] = df[col].str.replace(r'&quot;', '\"')\n",
    "        \n",
    "        # replace \\u00a0 to space\n",
    "        df[col] = df[col].str.replace(r'\\u00a0', ' ')\n",
    "    \n",
    "\n",
    "    df = df.fillna('None')\n",
    "\n",
    "    return df.reset_index(drop=True)\n",
    "    \n"
   ]
  },
  {
   "cell_type": "code",
   "execution_count": 50,
   "metadata": {},
   "outputs": [
    {
     "data": {
      "text/plain": [
       "[('equipment', 0.3635001490391424),\n",
       " ('performs', 0.26694893989639124),\n",
       " ('maintenance', 0.24150701890508272),\n",
       " ('members', 0.1818264341911659),\n",
       " ('required', 0.15328420094611045),\n",
       " ('installs', 0.14726775075245796),\n",
       " ('troubleshoots', 0.14726775075245796),\n",
       " ('identifies', 0.13232382316134655),\n",
       " ('motor', 0.1230859729232742),\n",
       " ('control', 0.1228673208936796),\n",
       " ('instrumentation', 0.12159130794336889),\n",
       " ('follows', 0.11758449775282394),\n",
       " ('tasks', 0.11612477212743229),\n",
       " ('plant', 0.10842381321626243),\n",
       " ('power', 0.10842381321626243),\n",
       " ('electrical', 0.10599683016804141),\n",
       " ('environmental', 0.10523817272483196),\n",
       " ('team', 0.10468917783902862),\n",
       " ('record', 0.10378749423564171),\n",
       " ('controls', 0.10175996149785409)]"
      ]
     },
     "execution_count": 50,
     "metadata": {},
     "output_type": "execute_result"
    }
   ],
   "source": [
    "# extract unique keywords from text using tf-idf\n",
    "from sklearn.feature_extraction.text import TfidfVectorizer\n",
    "\n",
    "def get_unique_keywords(df, col, top_k=20):\n",
    "    tfidf = TfidfVectorizer(\n",
    "        stop_words='english',\n",
    "        ngram_range=(1, 1),\n",
    "        )\n",
    "    tfidf.fit(df[col])\n",
    "    terms = tfidf.get_feature_names_out().tolist()\n",
    "    score = tfidf.transform(df[col]).toarray().flatten().tolist()\n",
    "    \n",
    "    data = [(t, s) for t, s in zip(terms, score)]\n",
    "    \n",
    "    return list(sorted(data, key=lambda x: x[1], reverse=True))[:top_k]"
   ]
  },
  {
   "cell_type": "code",
   "execution_count": 51,
   "metadata": {},
   "outputs": [
    {
     "name": "stdout",
     "output_type": "stream",
     "text": [
      "=====title=====\n",
      "[('ic', 0.8178481560722106), ('technician', 0.5754340914555595), ('000', 0.0), ('100', 0.0), ('130', 0.0), ('15', 0.0), ('150', 0.0), ('175', 0.0), ('1781', 0.0), ('1843', 0.0), ('19', 0.0), ('1970', 0.0), ('20', 0.0), ('200', 0.0), ('2020', 0.0), ('2022', 0.0), ('2048', 0.0), ('2053', 0.0), ('2131', 0.0), ('2141', 0.0)]\n",
      "\n",
      "\n",
      "\n",
      "=====company_profile=====\n",
      "[('candidates', 0.3369808461928552), ('significant', 0.21743359220444844), ('refined', 0.1908000882926579), ('resources', 0.1908000882926579), ('bonus', 0.17314629004139406), ('referral', 0.17314629004139406), ('signing', 0.17314629004139406), ('anyperk', 0.10871679610222422), ('automatically', 0.10871679610222422), ('behalf', 0.10871679610222422), ('cleaning', 0.10871679610222422), ('click', 0.10871679610222422), ('corporate', 0.10871679610222422), ('directly', 0.10871679610222422), ('discounts', 0.10871679610222422), ('enlarge', 0.10871679610222422), ('expenditures', 0.10871679610222422), ('formthank', 0.10871679610222422), ('forward', 0.10871679610222422), ('granted', 0.10871679610222422)]\n",
      "\n",
      "\n",
      "\n",
      "=====description=====\n",
      "[('equipment', 0.3635001490391424), ('performs', 0.26694893989639124), ('maintenance', 0.24150701890508272), ('members', 0.1818264341911659), ('required', 0.15328420094611045), ('installs', 0.14726775075245796), ('troubleshoots', 0.14726775075245796), ('identifies', 0.13232382316134655), ('motor', 0.1230859729232742), ('control', 0.1228673208936796), ('instrumentation', 0.12159130794336889), ('follows', 0.11758449775282394), ('tasks', 0.11612477212743229), ('plant', 0.10842381321626243), ('power', 0.10842381321626243), ('electrical', 0.10599683016804141), ('environmental', 0.10523817272483196), ('team', 0.10468917783902862), ('record', 0.10378749423564171), ('controls', 0.10175996149785409)]\n",
      "\n",
      "\n",
      "\n",
      "=====requirements=====\n",
      "[('demonstrated', 0.37787989102688774), ('equipment', 0.33823837341737567), ('plant', 0.2767058843986735), ('systems', 0.1875540628187914), ('including', 0.16609869715001235), ('electrical', 0.16064688072730215), ('power', 0.16064688072730215), ('ability', 0.16055718004216288), ('control', 0.14372029322000562), ('environment', 0.14166215120616235), ('qualificationsknowledge', 0.11456369807677738), ('basics', 0.10578507119479802), ('calibrate', 0.10578507119479802), ('cem', 0.10578507119479802), ('controllers', 0.10578507119479802), ('emissions', 0.10578507119479802), ('generators', 0.10578507119479802), ('programmable', 0.10578507119479802), ('transformers', 0.10578507119479802), ('analytic', 0.10265184364087065)]\n",
      "\n",
      "\n",
      "\n",
      "=====benefits=====\n",
      "[('careers', 0.29369141851435543), ('benefitswhat', 0.17452323412956325), ('renound', 0.15921207761442843), ('goalsqualified', 0.1555586423536028), ('phone_70128aad0c118273b0c2198a08d528591b932924e165b6a8d1272a6f9e2763d1', 0.1555586423536028), ('company', 0.1529554339297561), ('companysignificant', 0.15233608406871985), ('cultureworld', 0.15233608406871985), ('fundannual', 0.15233608406871985), ('increasesannual', 0.15233608406871985), ('invest', 0.15233608406871985), ('overall', 0.15233608406871985), ('package100', 0.15233608406871985), ('packageannual', 0.15233608406871985), ('sound', 0.15233608406871985), ('structureopportunity', 0.15233608406871985), ('leverage', 0.14945340745285132), ('increases', 0.14684570925717771), ('living', 0.14684570925717771), ('promote', 0.14684570925717771)]\n",
      "\n",
      "\n",
      "\n"
     ]
    }
   ],
   "source": [
    "for c in only_fake_text.columns[:-1]:\n",
    "    print(f'====={c}=====')\n",
    "    print(get_unique_keywords(only_fake_text, c, 20))\n",
    "    print('\\n\\n')"
   ]
  },
  {
   "cell_type": "code",
   "execution_count": 42,
   "metadata": {},
   "outputs": [],
   "source": [
    "div_by = 100\n",
    "number_of_parts = len(only_fake_text)//div_by + 1\n",
    "\n",
    "for i in range(number_of_parts):\n",
    "    only_fake_text.iloc[:i*div_by, :].to_json(f'{BASE_DIR}/data/only_fake_text_{i}.json', indent=4, orient='table')"
   ]
  },
  {
   "cell_type": "code",
   "execution_count": null,
   "metadata": {},
   "outputs": [],
   "source": []
  }
 ],
 "metadata": {
  "kernelspec": {
   "display_name": ".venv",
   "language": "python",
   "name": "python3"
  },
  "language_info": {
   "codemirror_mode": {
    "name": "ipython",
    "version": 3
   },
   "file_extension": ".py",
   "mimetype": "text/x-python",
   "name": "python",
   "nbconvert_exporter": "python",
   "pygments_lexer": "ipython3",
   "version": "3.9.11"
  },
  "orig_nbformat": 4
 },
 "nbformat": 4,
 "nbformat_minor": 2
}
