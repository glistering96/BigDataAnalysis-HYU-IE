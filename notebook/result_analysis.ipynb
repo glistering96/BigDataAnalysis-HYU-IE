{
 "cells": [
  {
   "cell_type": "code",
   "execution_count": 10,
   "metadata": {},
   "outputs": [],
   "source": [
    "import pandas as pd\n",
    "import seaborn as sns\n",
    "import json"
   ]
  },
  {
   "cell_type": "code",
   "execution_count": 19,
   "metadata": {},
   "outputs": [],
   "source": [
    "def get_result_df(result_dir):\n",
    "    with open(f'{result_dir}/results.json', 'r') as f:\n",
    "        result = json.load(f)\n",
    "        \n",
    "    refined_result = {k: result[k]['cv_avg_scores'] for k in result.keys()}\n",
    "    return pd.DataFrame.from_dict(refined_result).T"
   ]
  },
  {
   "cell_type": "code",
   "execution_count": 11,
   "metadata": {},
   "outputs": [],
   "source": [
    "baseline_no_imputation_mutual = '../baseline_no_imputation_mutual_info_classif'\n",
    "target_metric = 'AUC'\n",
    "\n",
    "get_result_df(baseline_no_imputation_mutual)"
   ]
  },
  {
   "cell_type": "code",
   "execution_count": 13,
   "metadata": {},
   "outputs": [],
   "source": [
    "result_dir = '../chained_mutual_info_classif'\n",
    "target_metric = 'AUC'\n",
    "get_result_df(baseline_no_imputation_mutual)"
   ]
  },
  {
   "cell_type": "code",
   "execution_count": 20,
   "metadata": {},
   "outputs": [
    {
     "data": {
      "text/html": [
       "<div>\n",
       "<style scoped>\n",
       "    .dataframe tbody tr th:only-of-type {\n",
       "        vertical-align: middle;\n",
       "    }\n",
       "\n",
       "    .dataframe tbody tr th {\n",
       "        vertical-align: top;\n",
       "    }\n",
       "\n",
       "    .dataframe thead th {\n",
       "        text-align: right;\n",
       "    }\n",
       "</style>\n",
       "<table border=\"1\" class=\"dataframe\">\n",
       "  <thead>\n",
       "    <tr style=\"text-align: right;\">\n",
       "      <th></th>\n",
       "      <th>fit_time</th>\n",
       "      <th>score_time</th>\n",
       "      <th>test_precision</th>\n",
       "      <th>test_recall</th>\n",
       "      <th>test_f1</th>\n",
       "      <th>test_AUC</th>\n",
       "    </tr>\n",
       "  </thead>\n",
       "  <tbody>\n",
       "    <tr>\n",
       "      <th>rf</th>\n",
       "      <td>27.820193</td>\n",
       "      <td>1.364888</td>\n",
       "      <td>0.938408</td>\n",
       "      <td>0.952158</td>\n",
       "      <td>0.945215</td>\n",
       "      <td>0.988822</td>\n",
       "    </tr>\n",
       "    <tr>\n",
       "      <th>lr</th>\n",
       "      <td>1.206974</td>\n",
       "      <td>0.008197</td>\n",
       "      <td>0.823825</td>\n",
       "      <td>0.877513</td>\n",
       "      <td>0.849804</td>\n",
       "      <td>0.925940</td>\n",
       "    </tr>\n",
       "    <tr>\n",
       "      <th>svm</th>\n",
       "      <td>71.635541</td>\n",
       "      <td>4.395177</td>\n",
       "      <td>0.963351</td>\n",
       "      <td>0.986658</td>\n",
       "      <td>0.974859</td>\n",
       "      <td>0.988258</td>\n",
       "    </tr>\n",
       "    <tr>\n",
       "      <th>ada</th>\n",
       "      <td>110.741588</td>\n",
       "      <td>3.290752</td>\n",
       "      <td>0.824877</td>\n",
       "      <td>0.862642</td>\n",
       "      <td>0.843321</td>\n",
       "      <td>0.924301</td>\n",
       "    </tr>\n",
       "    <tr>\n",
       "      <th>et</th>\n",
       "      <td>24.077533</td>\n",
       "      <td>0.831436</td>\n",
       "      <td>0.953154</td>\n",
       "      <td>0.967910</td>\n",
       "      <td>0.960454</td>\n",
       "      <td>0.992853</td>\n",
       "    </tr>\n",
       "    <tr>\n",
       "      <th>xgb</th>\n",
       "      <td>54.526390</td>\n",
       "      <td>0.243923</td>\n",
       "      <td>0.970823</td>\n",
       "      <td>0.969320</td>\n",
       "      <td>0.970062</td>\n",
       "      <td>0.995736</td>\n",
       "    </tr>\n",
       "    <tr>\n",
       "      <th>knn</th>\n",
       "      <td>0.010593</td>\n",
       "      <td>3.914428</td>\n",
       "      <td>0.896379</td>\n",
       "      <td>0.985483</td>\n",
       "      <td>0.938793</td>\n",
       "      <td>0.987155</td>\n",
       "    </tr>\n",
       "  </tbody>\n",
       "</table>\n",
       "</div>"
      ],
      "text/plain": [
       "       fit_time  score_time  test_precision  test_recall   test_f1  test_AUC\n",
       "rf    27.820193    1.364888        0.938408     0.952158  0.945215  0.988822\n",
       "lr     1.206974    0.008197        0.823825     0.877513  0.849804  0.925940\n",
       "svm   71.635541    4.395177        0.963351     0.986658  0.974859  0.988258\n",
       "ada  110.741588    3.290752        0.824877     0.862642  0.843321  0.924301\n",
       "et    24.077533    0.831436        0.953154     0.967910  0.960454  0.992853\n",
       "xgb   54.526390    0.243923        0.970823     0.969320  0.970062  0.995736\n",
       "knn    0.010593    3.914428        0.896379     0.985483  0.938793  0.987155"
      ]
     },
     "execution_count": 20,
     "metadata": {},
     "output_type": "execute_result"
    }
   ],
   "source": [
    "result_dir = '../chained_chi2'\n",
    "target_metric = 'AUC'\n",
    "get_result_df(baseline_no_imputation_mutual)"
   ]
  },
  {
   "cell_type": "code",
   "execution_count": null,
   "metadata": {},
   "outputs": [],
   "source": []
  }
 ],
 "metadata": {
  "kernelspec": {
   "display_name": ".venv",
   "language": "python",
   "name": "python3"
  },
  "language_info": {
   "codemirror_mode": {
    "name": "ipython",
    "version": 3
   },
   "file_extension": ".py",
   "mimetype": "text/x-python",
   "name": "python",
   "nbconvert_exporter": "python",
   "pygments_lexer": "ipython3",
   "version": "3.10.6"
  },
  "orig_nbformat": 4
 },
 "nbformat": 4,
 "nbformat_minor": 2
}
