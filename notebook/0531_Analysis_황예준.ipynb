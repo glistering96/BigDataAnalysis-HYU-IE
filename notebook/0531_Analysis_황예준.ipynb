{
 "cells": [
  {
   "cell_type": "code",
   "execution_count": 1,
   "metadata": {
    "collapsed": true
   },
   "outputs": [],
   "source": [
    "import numpy as np\n",
    "import pandas as pd\n",
    "import matplotlib.pyplot as plt\n",
    "import seaborn as sns\n",
    "import warnings\n",
    "warnings.filterwarnings('ignore')\n",
    "# from tqdm import tqdm\n",
    "# import time\n",
    "import re\n",
    "import string\n",
    "import nltk\n",
    "from nltk.corpus import stopwords\n",
    "from nltk.tokenize import word_tokenize\n",
    "\n",
    "# from sklearn.model_selection import train_test_split, GridSearchCV, StratifiedKFold, KFold, cross_val_score\n",
    "# from sklearn.feature_extraction.text import CountVectorizer, TfidfVectorizer\n",
    "# from sklearn.svm import SVC\n",
    "# from sklearn.linear_model import LogisticRegression\n",
    "# from sklearn.naive_bayes import MultinomialNB\n",
    "# import xgboost as xgb\n",
    "# from sklearn import preprocessing, model_selection, pipeline\n",
    "# from sklearn.metrics import f1_score, roc_auc_score\n",
    "#\n",
    "# from keras.models import Sequential\n",
    "# from keras.layers import LSTM, GRU, Embedding, BatchNormalization\n",
    "# from keras.layers.core import Dense, Activation, Dropout\n",
    "# from keras.utils import np_utils\n",
    "# from keras.layers import GlobalMaxPooling1D, Conv1D, MaxPooling1D, Flatten, Bidirectional, SpatialDropout1D\n",
    "# from keras.preprocessing import sequence, text\n",
    "# from keras.callbacks import EarlyStopping"
   ]
  },
  {
   "cell_type": "code",
   "execution_count": 2,
   "outputs": [
    {
     "data": {
      "text/plain": "                                       title            location   \n0                           Marketing Intern    US, NY, New York  \\\n1  Customer Service - Cloud Video Production      NZ, , Auckland   \n2    Commissioning Machinery Assistant (CMA)       US, IA, Wever   \n3          Account Executive - Washington DC  US, DC, Washington   \n4                        Bill Review Manager  US, FL, Fort Worth   \n\n                                     company_profile   \n0  We're Food52, and we've created a groundbreaki...  \\\n1  90 Seconds, the worlds Cloud Video Production ...   \n2  Valor Services provides Workforce Solutions th...   \n3  Our passion for improving quality of life thro...   \n4  SpotSource Solutions LLC is a Global Human Cap...   \n\n                                         description   \n0  Food52, a fast-growing, James Beard Award-winn...  \\\n1  Organised - Focused - Vibrant - Awesome!Do you...   \n2  Our client, located in Houston, is actively se...   \n3  THE COMPANY: ESRI – Environmental Systems Rese...   \n4  JOB TITLE: Itemization Review ManagerLOCATION:...   \n\n                                        requirements   \n0  Experience with content management systems a m...  \\\n1  What we expect from you:Your key responsibilit...   \n2  Implement pre-commissioning and commissioning ...   \n3  EDUCATION: Bachelor’s or Master’s in GIS, busi...   \n4  QUALIFICATIONS:RN license in the State of Texa...   \n\n                                            benefits  telecommuting   \n0                                                NaN              0  \\\n1  What you will get from usThrough being part of...              0   \n2                                                NaN              0   \n3  Our culture is anything but corporate—we have ...              0   \n4                              Full Benefits Offered              0   \n\n   has_company_logo  has_questions employment_type required_experience   \n0                 1              0           Other          Internship  \\\n1                 1              0       Full-time      Not Applicable   \n2                 1              0             NaN                 NaN   \n3                 1              0       Full-time    Mid-Senior level   \n4                 1              1       Full-time    Mid-Senior level   \n\n  required_education                   industry              function   \n0                NaN                        NaN             Marketing  \\\n1                NaN  Marketing and Advertising      Customer Service   \n2                NaN                        NaN                   NaN   \n3  Bachelor's Degree          Computer Software                 Sales   \n4  Bachelor's Degree     Hospital & Health Care  Health Care Provider   \n\n   fraudulent  \n0           0  \n1           0  \n2           0  \n3           0  \n4           0  ",
      "text/html": "<div>\n<style scoped>\n    .dataframe tbody tr th:only-of-type {\n        vertical-align: middle;\n    }\n\n    .dataframe tbody tr th {\n        vertical-align: top;\n    }\n\n    .dataframe thead th {\n        text-align: right;\n    }\n</style>\n<table border=\"1\" class=\"dataframe\">\n  <thead>\n    <tr style=\"text-align: right;\">\n      <th></th>\n      <th>title</th>\n      <th>location</th>\n      <th>company_profile</th>\n      <th>description</th>\n      <th>requirements</th>\n      <th>benefits</th>\n      <th>telecommuting</th>\n      <th>has_company_logo</th>\n      <th>has_questions</th>\n      <th>employment_type</th>\n      <th>required_experience</th>\n      <th>required_education</th>\n      <th>industry</th>\n      <th>function</th>\n      <th>fraudulent</th>\n    </tr>\n  </thead>\n  <tbody>\n    <tr>\n      <th>0</th>\n      <td>Marketing Intern</td>\n      <td>US, NY, New York</td>\n      <td>We're Food52, and we've created a groundbreaki...</td>\n      <td>Food52, a fast-growing, James Beard Award-winn...</td>\n      <td>Experience with content management systems a m...</td>\n      <td>NaN</td>\n      <td>0</td>\n      <td>1</td>\n      <td>0</td>\n      <td>Other</td>\n      <td>Internship</td>\n      <td>NaN</td>\n      <td>NaN</td>\n      <td>Marketing</td>\n      <td>0</td>\n    </tr>\n    <tr>\n      <th>1</th>\n      <td>Customer Service - Cloud Video Production</td>\n      <td>NZ, , Auckland</td>\n      <td>90 Seconds, the worlds Cloud Video Production ...</td>\n      <td>Organised - Focused - Vibrant - Awesome!Do you...</td>\n      <td>What we expect from you:Your key responsibilit...</td>\n      <td>What you will get from usThrough being part of...</td>\n      <td>0</td>\n      <td>1</td>\n      <td>0</td>\n      <td>Full-time</td>\n      <td>Not Applicable</td>\n      <td>NaN</td>\n      <td>Marketing and Advertising</td>\n      <td>Customer Service</td>\n      <td>0</td>\n    </tr>\n    <tr>\n      <th>2</th>\n      <td>Commissioning Machinery Assistant (CMA)</td>\n      <td>US, IA, Wever</td>\n      <td>Valor Services provides Workforce Solutions th...</td>\n      <td>Our client, located in Houston, is actively se...</td>\n      <td>Implement pre-commissioning and commissioning ...</td>\n      <td>NaN</td>\n      <td>0</td>\n      <td>1</td>\n      <td>0</td>\n      <td>NaN</td>\n      <td>NaN</td>\n      <td>NaN</td>\n      <td>NaN</td>\n      <td>NaN</td>\n      <td>0</td>\n    </tr>\n    <tr>\n      <th>3</th>\n      <td>Account Executive - Washington DC</td>\n      <td>US, DC, Washington</td>\n      <td>Our passion for improving quality of life thro...</td>\n      <td>THE COMPANY: ESRI – Environmental Systems Rese...</td>\n      <td>EDUCATION: Bachelor’s or Master’s in GIS, busi...</td>\n      <td>Our culture is anything but corporate—we have ...</td>\n      <td>0</td>\n      <td>1</td>\n      <td>0</td>\n      <td>Full-time</td>\n      <td>Mid-Senior level</td>\n      <td>Bachelor's Degree</td>\n      <td>Computer Software</td>\n      <td>Sales</td>\n      <td>0</td>\n    </tr>\n    <tr>\n      <th>4</th>\n      <td>Bill Review Manager</td>\n      <td>US, FL, Fort Worth</td>\n      <td>SpotSource Solutions LLC is a Global Human Cap...</td>\n      <td>JOB TITLE: Itemization Review ManagerLOCATION:...</td>\n      <td>QUALIFICATIONS:RN license in the State of Texa...</td>\n      <td>Full Benefits Offered</td>\n      <td>0</td>\n      <td>1</td>\n      <td>1</td>\n      <td>Full-time</td>\n      <td>Mid-Senior level</td>\n      <td>Bachelor's Degree</td>\n      <td>Hospital &amp; Health Care</td>\n      <td>Health Care Provider</td>\n      <td>0</td>\n    </tr>\n  </tbody>\n</table>\n</div>"
     },
     "execution_count": 2,
     "metadata": {},
     "output_type": "execute_result"
    }
   ],
   "source": [
    "df = pd.read_csv('../data/fake_job_postings.csv', engine = 'python')\n",
    "df = df.drop(['job_id'], axis = 1)\n",
    "# 대부분 missing 인 col 제거\n",
    "df = df.drop(['department','salary_range'], axis = 1)\n",
    "df.head()"
   ],
   "metadata": {
    "collapsed": false
   }
  },
  {
   "cell_type": "code",
   "execution_count": 3,
   "outputs": [],
   "source": [
    "# 우선 text 데이터 제외한 예측\n",
    "df = df.drop(['title','company_profile','description','requirements','benefits'], axis = 1)"
   ],
   "metadata": {
    "collapsed": false
   }
  },
  {
   "cell_type": "code",
   "execution_count": 4,
   "outputs": [
    {
     "name": "stdout",
     "output_type": "stream",
     "text": [
      "<class 'pandas.core.frame.DataFrame'>\n",
      "RangeIndex: 17880 entries, 0 to 17879\n",
      "Data columns (total 10 columns):\n",
      " #   Column               Non-Null Count  Dtype \n",
      "---  ------               --------------  ----- \n",
      " 0   location             17534 non-null  object\n",
      " 1   telecommuting        17880 non-null  int64 \n",
      " 2   has_company_logo     17880 non-null  int64 \n",
      " 3   has_questions        17880 non-null  int64 \n",
      " 4   employment_type      14409 non-null  object\n",
      " 5   required_experience  10830 non-null  object\n",
      " 6   required_education   9775 non-null   object\n",
      " 7   industry             12977 non-null  object\n",
      " 8   function             11425 non-null  object\n",
      " 9   fraudulent           17880 non-null  int64 \n",
      "dtypes: int64(4), object(6)\n",
      "memory usage: 1.4+ MB\n"
     ]
    }
   ],
   "source": [
    "df.info()"
   ],
   "metadata": {
    "collapsed": false
   }
  },
  {
   "cell_type": "code",
   "execution_count": 5,
   "outputs": [
    {
     "name": "stdout",
     "output_type": "stream",
     "text": [
      "fake job posting 비율 :  0.04843400447427293\n"
     ]
    }
   ],
   "source": [
    "df['fraudulent'].value_counts()\n",
    "\n",
    "# 원래 fake job posting 비율\n",
    "print('fake job posting 비율 : ', df['fraudulent'].value_counts()[1]/df.shape[0])"
   ],
   "metadata": {
    "collapsed": false
   }
  },
  {
   "cell_type": "code",
   "execution_count": 6,
   "outputs": [
    {
     "name": "stdout",
     "output_type": "stream",
     "text": [
      "df_drop의 shape:  (7397, 224) (location 전처리 전 1882 차원)\n",
      "fake job posting 비율 :  0.04528863052588887\n"
     ]
    }
   ],
   "source": [
    "# 모든 missing을 단순히 제외하고 정상 데이터만 존재할 때 성능 확인해보자.\n",
    "df_drop = df.dropna().reset_index(drop=True)\n",
    "\n",
    "# location만 전처리 하고 (get_dummies에서 차원 너무 증가해)\n",
    "\n",
    "# location 전처리\n",
    "df_drop['location'] = df_drop['location'].apply(lambda x : str(x).split(',')[0])\n",
    "\n",
    "# 10개 이상의 관측치 보유 location 만 남기기\n",
    "loc_val_count = df_drop['location'].value_counts()\n",
    "loc_over_10 = loc_val_count[loc_val_count>10].index\n",
    "df_drop = df_drop[df_drop['location'].isin(loc_over_10)].reset_index(drop=True)\n",
    "\n",
    "\n",
    "df_drop = pd.get_dummies(df_drop)\n",
    "print(\"df_drop의 shape: \",df_drop.shape,\"(location 전처리 전 1882 차원)\")\n",
    "print('fake job posting 비율 : ', df_drop['fraudulent'].value_counts()[1]/df_drop.shape[0])"
   ],
   "metadata": {
    "collapsed": false
   }
  },
  {
   "cell_type": "code",
   "execution_count": 7,
   "outputs": [],
   "source": [
    "from sklearn.model_selection import train_test_split\n",
    "from sklearn import metrics\n",
    "\n",
    "train =  df_drop.iloc[:-df.shape[0]//10,:]\n",
    "test = df_drop.iloc[-df.shape[0]//10:,:]\n",
    "\n",
    "x_train = train.drop(['fraudulent'],axis=1)\n",
    "y_train = train['fraudulent']\n",
    "\n",
    "x_test = test.drop(['fraudulent'],axis=1)\n",
    "y_test = test['fraudulent']\n",
    "\n",
    "x_train,x_val,y_train,y_val = train_test_split(x_train,y_train,test_size=0.2,random_state=2000,shuffle=True)"
   ],
   "metadata": {
    "collapsed": false
   }
  },
  {
   "cell_type": "code",
   "execution_count": 136,
   "outputs": [],
   "source": [
    "from sklearn.ensemble import GradientBoostingClassifier\n",
    "# from sklearn.model_selection import RepeatedKFold\n",
    "from sklearn.model_selection import GridSearchCV\n",
    "model = GradientBoostingClassifier()\n",
    "\n",
    "grid=dict()\n",
    "grid['n_estimators'] = [1000]\n",
    "# grid['n_estimators'] = [10,50,100,500,1000,2000]\n",
    "# grid['subsample'] = [0.5,0.7,1.0]\n",
    "# grid['max_depth'] = [3,7,9]\n",
    "\n",
    "#cv = RepeatedKFold(n_splits = 5, n_repeats= 1, random_state = 1)\n",
    "\n",
    "grid_search = GridSearchCV(estimator = model,param_grid = grid,cv=5)\n",
    "\n",
    "grid_result = grid_search.fit(x_train,y_train)\n",
    "\n",
    "best_params= grid_result.cv_results_['params'][-1]"
   ],
   "metadata": {
    "collapsed": false
   }
  },
  {
   "cell_type": "code",
   "execution_count": 137,
   "outputs": [
    {
     "data": {
      "text/plain": "GradientBoostingClassifier(n_estimators=1000)",
      "text/html": "<style>#sk-container-id-1 {color: black;background-color: white;}#sk-container-id-1 pre{padding: 0;}#sk-container-id-1 div.sk-toggleable {background-color: white;}#sk-container-id-1 label.sk-toggleable__label {cursor: pointer;display: block;width: 100%;margin-bottom: 0;padding: 0.3em;box-sizing: border-box;text-align: center;}#sk-container-id-1 label.sk-toggleable__label-arrow:before {content: \"▸\";float: left;margin-right: 0.25em;color: #696969;}#sk-container-id-1 label.sk-toggleable__label-arrow:hover:before {color: black;}#sk-container-id-1 div.sk-estimator:hover label.sk-toggleable__label-arrow:before {color: black;}#sk-container-id-1 div.sk-toggleable__content {max-height: 0;max-width: 0;overflow: hidden;text-align: left;background-color: #f0f8ff;}#sk-container-id-1 div.sk-toggleable__content pre {margin: 0.2em;color: black;border-radius: 0.25em;background-color: #f0f8ff;}#sk-container-id-1 input.sk-toggleable__control:checked~div.sk-toggleable__content {max-height: 200px;max-width: 100%;overflow: auto;}#sk-container-id-1 input.sk-toggleable__control:checked~label.sk-toggleable__label-arrow:before {content: \"▾\";}#sk-container-id-1 div.sk-estimator input.sk-toggleable__control:checked~label.sk-toggleable__label {background-color: #d4ebff;}#sk-container-id-1 div.sk-label input.sk-toggleable__control:checked~label.sk-toggleable__label {background-color: #d4ebff;}#sk-container-id-1 input.sk-hidden--visually {border: 0;clip: rect(1px 1px 1px 1px);clip: rect(1px, 1px, 1px, 1px);height: 1px;margin: -1px;overflow: hidden;padding: 0;position: absolute;width: 1px;}#sk-container-id-1 div.sk-estimator {font-family: monospace;background-color: #f0f8ff;border: 1px dotted black;border-radius: 0.25em;box-sizing: border-box;margin-bottom: 0.5em;}#sk-container-id-1 div.sk-estimator:hover {background-color: #d4ebff;}#sk-container-id-1 div.sk-parallel-item::after {content: \"\";width: 100%;border-bottom: 1px solid gray;flex-grow: 1;}#sk-container-id-1 div.sk-label:hover label.sk-toggleable__label {background-color: #d4ebff;}#sk-container-id-1 div.sk-serial::before {content: \"\";position: absolute;border-left: 1px solid gray;box-sizing: border-box;top: 0;bottom: 0;left: 50%;z-index: 0;}#sk-container-id-1 div.sk-serial {display: flex;flex-direction: column;align-items: center;background-color: white;padding-right: 0.2em;padding-left: 0.2em;position: relative;}#sk-container-id-1 div.sk-item {position: relative;z-index: 1;}#sk-container-id-1 div.sk-parallel {display: flex;align-items: stretch;justify-content: center;background-color: white;position: relative;}#sk-container-id-1 div.sk-item::before, #sk-container-id-1 div.sk-parallel-item::before {content: \"\";position: absolute;border-left: 1px solid gray;box-sizing: border-box;top: 0;bottom: 0;left: 50%;z-index: -1;}#sk-container-id-1 div.sk-parallel-item {display: flex;flex-direction: column;z-index: 1;position: relative;background-color: white;}#sk-container-id-1 div.sk-parallel-item:first-child::after {align-self: flex-end;width: 50%;}#sk-container-id-1 div.sk-parallel-item:last-child::after {align-self: flex-start;width: 50%;}#sk-container-id-1 div.sk-parallel-item:only-child::after {width: 0;}#sk-container-id-1 div.sk-dashed-wrapped {border: 1px dashed gray;margin: 0 0.4em 0.5em 0.4em;box-sizing: border-box;padding-bottom: 0.4em;background-color: white;}#sk-container-id-1 div.sk-label label {font-family: monospace;font-weight: bold;display: inline-block;line-height: 1.2em;}#sk-container-id-1 div.sk-label-container {text-align: center;}#sk-container-id-1 div.sk-container {/* jupyter's `normalize.less` sets `[hidden] { display: none; }` but bootstrap.min.css set `[hidden] { display: none !important; }` so we also need the `!important` here to be able to override the default hidden behavior on the sphinx rendered scikit-learn.org. See: https://github.com/scikit-learn/scikit-learn/issues/21755 */display: inline-block !important;position: relative;}#sk-container-id-1 div.sk-text-repr-fallback {display: none;}</style><div id=\"sk-container-id-1\" class=\"sk-top-container\"><div class=\"sk-text-repr-fallback\"><pre>GradientBoostingClassifier(n_estimators=1000)</pre><b>In a Jupyter environment, please rerun this cell to show the HTML representation or trust the notebook. <br />On GitHub, the HTML representation is unable to render, please try loading this page with nbviewer.org.</b></div><div class=\"sk-container\" hidden><div class=\"sk-item\"><div class=\"sk-estimator sk-toggleable\"><input class=\"sk-toggleable__control sk-hidden--visually\" id=\"sk-estimator-id-1\" type=\"checkbox\" checked><label for=\"sk-estimator-id-1\" class=\"sk-toggleable__label sk-toggleable__label-arrow\">GradientBoostingClassifier</label><div class=\"sk-toggleable__content\"><pre>GradientBoostingClassifier(n_estimators=1000)</pre></div></div></div></div></div>"
     },
     "execution_count": 137,
     "metadata": {},
     "output_type": "execute_result"
    }
   ],
   "source": [
    "best_model = GradientBoostingClassifier(n_estimators=best_params['n_estimators'])\n",
    "from sklearn.ensemble import GradientBoostingRegressor\n",
    "#best_regressor = GradientBoostingRegressor(n_estimators=2000)\n",
    "\n",
    "best_model.fit(x_train,y_train)"
   ],
   "metadata": {
    "collapsed": false
   }
  },
  {
   "cell_type": "code",
   "execution_count": 138,
   "outputs": [
    {
     "name": "stdout",
     "output_type": "stream",
     "text": [
      "              precision    recall  f1-score   support\n",
      "\n",
      "           0       0.98      1.00      0.99      1077\n",
      "           1       0.89      0.56      0.68        45\n",
      "\n",
      "    accuracy                           0.98      1122\n",
      "   macro avg       0.94      0.78      0.84      1122\n",
      "weighted avg       0.98      0.98      0.98      1122\n",
      "\n"
     ]
    }
   ],
   "source": [
    "from sklearn.metrics import classification_report\n",
    "\n",
    "val_pred = best_model.predict(x_val)\n",
    "print(classification_report(y_val, val_pred))"
   ],
   "metadata": {
    "collapsed": false
   }
  },
  {
   "cell_type": "code",
   "execution_count": 8,
   "outputs": [
    {
     "data": {
      "text/plain": "location                346\ntelecommuting             0\nhas_company_logo          0\nhas_questions             0\nemployment_type        3471\nrequired_experience    7050\nrequired_education     8105\nindustry               4903\nfunction               6455\nfraudulent                0\ndtype: int64"
     },
     "execution_count": 8,
     "metadata": {},
     "output_type": "execute_result"
    }
   ],
   "source": [
    "# 전처리 후 성능 내기\n",
    "df.isnull().sum()"
   ],
   "metadata": {
    "collapsed": false
   }
  },
  {
   "cell_type": "code",
   "execution_count": 9,
   "outputs": [
    {
     "name": "stdout",
     "output_type": "stream",
     "text": [
      "location null의 fake job posting 비율 :  0.05491329479768786\n",
      "비율 차이 적으므로 mode로 imputation\n"
     ]
    }
   ],
   "source": [
    "# location 전처리\n",
    "\n",
    "print('location null의 fake job posting 비율 : ', df[df['location'].isnull() ==True]['fraudulent'].value_counts()[1]/df[df['location'].isnull() ==True].shape[0])\n",
    "\n",
    "# 국가명만 남기기\n",
    "df['location'] = df['location'].apply(lambda x : str(x).split(',')[0])\n",
    "\n",
    "# mode로 대체\n",
    "df[df['location'].isnull() ==True]['location'] = df['location'].mode()[0]\n",
    "# 10개 이상의 관측치 보유 location 만 남기기\n",
    "loc_val_count = df['location'].value_counts()\n",
    "loc_over_10 = loc_val_count[loc_val_count>10].index\n",
    "df = df[df['location'].isin(loc_over_10)].reset_index(drop=True)\n",
    "\n",
    "print(\"비율 차이 적으므로 mode로 imputation\")\n"
   ],
   "metadata": {
    "collapsed": false
   }
  },
  {
   "cell_type": "code",
   "execution_count": 10,
   "outputs": [
    {
     "name": "stdout",
     "output_type": "stream",
     "text": [
      "required_experience 의 unique col 개수(nan포함) : 8\n",
      "required_experience 의 missing 개수 : 6985\n",
      "required_experience\n",
      "Mid-Senior level    3772\n",
      "Entry level         2674\n",
      "Associate           2278\n",
      "Not Applicable      1096\n",
      "Director             385\n",
      "Internship           380\n",
      "Executive            140\n",
      "Name: count, dtype: int64\n"
     ]
    },
    {
     "data": {
      "text/plain": "<Axes: xlabel='required_experience', ylabel='fraudulent'>"
     },
     "execution_count": 10,
     "metadata": {},
     "output_type": "execute_result"
    },
    {
     "data": {
      "text/plain": "<Figure size 640x480 with 1 Axes>",
      "image/png": "[encoded data removed]"
     },
     "metadata": {},
     "output_type": "display_data"
    }
   ],
   "source": [
    "# required_experience 전처리\n",
    "print('required_experience 의 unique col 개수(nan포함) :',len(df['required_experience'].unique()))\n",
    "print('required_experience 의 missing 개수 :',df['required_experience'].isnull().sum())\n",
    "print(df['required_experience'].value_counts())\n",
    "sns.barplot(data=df, x='required_experience',y='fraudulent')"
   ],
   "metadata": {
    "collapsed": false
   }
  },
  {
   "cell_type": "code",
   "execution_count": 3,
   "outputs": [
    {
     "name": "stdout",
     "output_type": "stream",
     "text": [
      "Collecting datawig\n",
      "  Using cached datawig-0.2.0.tar.gz (61 kB)\n",
      "  Preparing metadata (setup.py): started\n",
      "  Preparing metadata (setup.py): finished with status 'done'\n",
      "Collecting scikit-learn[alldeps]==0.22.1\n",
      "  Using cached scikit-learn-0.22.1.tar.gz (6.9 MB)\n",
      "  Preparing metadata (setup.py): started\n",
      "  Preparing metadata (setup.py): finished with status 'done'\n",
      "Collecting typing==3.6.6\n",
      "  Using cached typing-3.6.6-py3-none-any.whl (25 kB)\n",
      "Collecting pandas==0.25.3\n",
      "  Using cached pandas-0.25.3.tar.gz (12.6 MB)\n",
      "  Preparing metadata (setup.py): started\n",
      "  Preparing metadata (setup.py): finished with status 'done'\n",
      "Collecting mxnet==1.4.0\n",
      "  Using cached mxnet-1.4.0-py2.py3-none-win_amd64.whl (21.9 MB)\n",
      "Collecting numpy<1.15.0,>=1.8.2\n",
      "  Using cached numpy-1.14.6.zip (4.9 MB)\n",
      "  Preparing metadata (setup.py): started\n",
      "  Preparing metadata (setup.py): finished with status 'done'\n",
      "Collecting graphviz<0.9.0,>=0.8.1\n",
      "  Using cached graphviz-0.8.4-py2.py3-none-any.whl (16 kB)\n",
      "Collecting requests<2.19.0,>=2.18.4\n",
      "  Using cached requests-2.18.4-py2.py3-none-any.whl (88 kB)\n",
      "Requirement already satisfied: python-dateutil>=2.6.1 in c:\\users\\user\\pycharmprojects\\bigdataanalysis-hyu-ie\\venv\\lib\\site-packages (from pandas==0.25.3->datawig) (2.8.2)\n",
      "Requirement already satisfied: pytz>=2017.2 in c:\\users\\user\\pycharmprojects\\bigdataanalysis-hyu-ie\\venv\\lib\\site-packages (from pandas==0.25.3->datawig) (2023.3)\n",
      "Requirement already satisfied: scipy>=0.17.0 in c:\\users\\user\\pycharmprojects\\bigdataanalysis-hyu-ie\\venv\\lib\\site-packages (from scikit-learn[alldeps]==0.22.1->datawig) (1.10.1)\n",
      "Requirement already satisfied: joblib>=0.11 in c:\\users\\user\\pycharmprojects\\bigdataanalysis-hyu-ie\\venv\\lib\\site-packages (from scikit-learn[alldeps]==0.22.1->datawig) (1.2.0)\n",
      "Requirement already satisfied: six>=1.5 in c:\\users\\user\\pycharmprojects\\bigdataanalysis-hyu-ie\\venv\\lib\\site-packages (from python-dateutil>=2.6.1->pandas==0.25.3->datawig) (1.16.0)\n",
      "Collecting idna<2.7,>=2.5\n",
      "  Using cached idna-2.6-py2.py3-none-any.whl (56 kB)\n",
      "Collecting chardet<3.1.0,>=3.0.2\n",
      "  Using cached chardet-3.0.4-py2.py3-none-any.whl (133 kB)\n",
      "Collecting urllib3<1.23,>=1.21.1\n",
      "  Using cached urllib3-1.22-py2.py3-none-any.whl (132 kB)\n",
      "Collecting certifi>=2017.4.17\n",
      "  Using cached certifi-2023.5.7-py3-none-any.whl (156 kB)\n",
      "Collecting scipy>=0.17.0\n",
      "  Using cached scipy-1.10.0-cp310-cp310-win_amd64.whl (42.5 MB)\n",
      "  Using cached scipy-1.9.3-cp310-cp310-win_amd64.whl (40.1 MB)\n",
      "  Using cached scipy-1.9.2-cp310-cp310-win_amd64.whl (40.1 MB)\n",
      "  Using cached scipy-1.9.1-cp310-cp310-win_amd64.whl (38.6 MB)\n",
      "  Using cached scipy-1.9.0-cp310-cp310-win_amd64.whl (38.6 MB)\n",
      "  Using cached scipy-1.8.1-cp310-cp310-win_amd64.whl (36.9 MB)\n",
      "  Using cached scipy-1.8.0-cp310-cp310-win_amd64.whl (37.0 MB)\n",
      "  Using cached scipy-1.7.3-cp310-cp310-win_amd64.whl (34.3 MB)\n",
      "  Using cached scipy-1.7.2-1-cp310-cp310-win_amd64.whl (34.3 MB)\n",
      "  Using cached scipy-1.6.1.tar.gz (27.3 MB)\n",
      "  Installing build dependencies: started\n",
      "  Installing build dependencies: finished with status 'done'\n",
      "  Getting requirements to build wheel: started\n",
      "  Getting requirements to build wheel: finished with status 'done'\n",
      "  Preparing metadata (pyproject.toml): started\n",
      "  Preparing metadata (pyproject.toml): finished with status 'error'\n"
     ]
    },
    {
     "name": "stderr",
     "output_type": "stream",
     "text": [
      "  error: subprocess-exited-with-error\n",
      "  \n",
      "  Preparing metadata (pyproject.toml) did not run successfully.\n",
      "  exit code: 1\n",
      "  \n",
      "  [137 lines of output]\n",
      "  setup.py:461: UserWarning: Unrecognized setuptools command ('dist_info --egg-base C:\\Users\\user\\AppData\\Local\\Temp\\pip-modern-metadata-buut1szz'), proceeding with generating Cython sources and expanding templates\n",
      "    warnings.warn(\"Unrecognized setuptools command ('{}'), proceeding with \"\n",
      "  setup.py:563: DeprecationWarning:\n",
      "  \n",
      "    `numpy.distutils` is deprecated since NumPy 1.23.0, as a result\n",
      "    of the deprecation of `distutils` itself. It will be removed for\n",
      "    Python >= 3.12. For older Python versions it will remain present.\n",
      "    It is recommended to use `setuptools < 60.0` for those Python versions.\n",
      "    For more details, see:\n",
      "      https://numpy.org/devdocs/reference/distutils_status_migration.html\n",
      "  \n",
      "  \n",
      "    from numpy.distutils.core import setup\n",
      "  Running from SciPy source directory.\n",
      "  INFO: lapack_opt_info:\n",
      "  INFO: lapack_armpl_info:\n",
      "  INFO: No module named 'numpy.distutils._msvccompiler' in numpy.distutils; trying from distutils\n",
      "  INFO: customize MSVCCompiler\n",
      "  INFO:   libraries armpl_lp64_mp not found in ['C:\\\\Users\\\\user\\\\PycharmProjects\\\\BigDataAnalysis-HYU-IE\\\\venv\\\\lib', 'C:\\\\']\n",
      "  INFO:   NOT AVAILABLE\n",
      "  INFO:\n",
      "  INFO: lapack_mkl_info:\n",
      "  INFO:   libraries mkl_rt not found in ['C:\\\\Users\\\\user\\\\PycharmProjects\\\\BigDataAnalysis-HYU-IE\\\\venv\\\\lib', 'C:\\\\']\n",
      "  INFO:   NOT AVAILABLE\n",
      "  INFO:\n",
      "  INFO: openblas_lapack_info:\n",
      "  INFO:   libraries openblas not found in ['C:\\\\Users\\\\user\\\\PycharmProjects\\\\BigDataAnalysis-HYU-IE\\\\venv\\\\lib', 'C:\\\\']\n",
      "  INFO: get_default_fcompiler: matching types: '['gnu', 'intelv', 'absoft', 'compaqv', 'intelev', 'gnu95', 'g95', 'intelvem', 'intelem', 'flang']'\n",
      "  INFO: customize GnuFCompiler\n",
      "  WARN: Could not locate executable g77\n",
      "  WARN: Could not locate executable f77\n",
      "  INFO: customize IntelVisualFCompiler\n",
      "  WARN: Could not locate executable ifort\n",
      "  WARN: Could not locate executable ifl\n",
      "  INFO: customize AbsoftFCompiler\n",
      "  WARN: Could not locate executable f90\n",
      "  INFO: customize CompaqVisualFCompiler\n",
      "  WARN: Could not locate executable DF\n",
      "  INFO: customize IntelItaniumVisualFCompiler\n",
      "  WARN: Could not locate executable efl\n",
      "  INFO: customize Gnu95FCompiler\n",
      "  WARN: Could not locate executable gfortran\n",
      "  WARN: Could not locate executable f95\n",
      "  INFO: customize G95FCompiler\n",
      "  WARN: Could not locate executable g95\n",
      "  INFO: customize IntelEM64VisualFCompiler\n",
      "  INFO: customize IntelEM64TFCompiler\n",
      "  WARN: Could not locate executable efort\n",
      "  WARN: Could not locate executable efc\n",
      "  INFO: customize PGroupFlangCompiler\n",
      "  WARN: Could not locate executable flang\n",
      "  WARN: don't know how to compile Fortran code on platform 'nt'\n",
      "  INFO:   NOT AVAILABLE\n",
      "  INFO:\n",
      "  INFO: openblas_clapack_info:\n",
      "  INFO:   libraries openblas,lapack not found in ['C:\\\\Users\\\\user\\\\PycharmProjects\\\\BigDataAnalysis-HYU-IE\\\\venv\\\\lib', 'C:\\\\']\n",
      "  INFO:   NOT AVAILABLE\n",
      "  INFO:\n",
      "  INFO: flame_info:\n",
      "  INFO:   libraries flame not found in ['C:\\\\Users\\\\user\\\\PycharmProjects\\\\BigDataAnalysis-HYU-IE\\\\venv\\\\lib', 'C:\\\\']\n",
      "  INFO:   NOT AVAILABLE\n",
      "  INFO:\n",
      "  INFO: accelerate_info:\n",
      "  INFO:   NOT AVAILABLE\n",
      "  INFO:\n",
      "  INFO: atlas_3_10_threads_info:\n",
      "  INFO: Setting PTATLAS=ATLAS\n",
      "  INFO:   libraries tatlas,tatlas not found in C:\\Users\\user\\PycharmProjects\\BigDataAnalysis-HYU-IE\\venv\\lib\n",
      "  INFO:   libraries tatlas,tatlas not found in C:\\\n",
      "  INFO: <class 'numpy.distutils.system_info.atlas_3_10_threads_info'>\n",
      "  INFO:   NOT AVAILABLE\n",
      "  INFO:\n",
      "  INFO: atlas_3_10_info:\n",
      "  INFO:   libraries satlas,satlas not found in C:\\Users\\user\\PycharmProjects\\BigDataAnalysis-HYU-IE\\venv\\lib\n",
      "  INFO:   libraries satlas,satlas not found in C:\\\n",
      "  INFO: <class 'numpy.distutils.system_info.atlas_3_10_info'>\n",
      "  INFO:   NOT AVAILABLE\n",
      "  INFO:\n",
      "  INFO: atlas_threads_info:\n",
      "  INFO: Setting PTATLAS=ATLAS\n",
      "  INFO:   libraries ptf77blas,ptcblas,atlas not found in C:\\Users\\user\\PycharmProjects\\BigDataAnalysis-HYU-IE\\venv\\lib\n",
      "  INFO:   libraries ptf77blas,ptcblas,atlas not found in C:\\\n",
      "  INFO: <class 'numpy.distutils.system_info.atlas_threads_info'>\n",
      "  INFO:   NOT AVAILABLE\n",
      "  INFO:\n",
      "  INFO: atlas_info:\n",
      "  INFO:   libraries f77blas,cblas,atlas not found in C:\\Users\\user\\PycharmProjects\\BigDataAnalysis-HYU-IE\\venv\\lib\n",
      "  INFO:   libraries f77blas,cblas,atlas not found in C:\\\n",
      "  INFO: <class 'numpy.distutils.system_info.atlas_info'>\n",
      "  INFO:   NOT AVAILABLE\n",
      "  INFO:\n",
      "  INFO: lapack_info:\n",
      "  INFO:   libraries lapack not found in ['C:\\\\Users\\\\user\\\\PycharmProjects\\\\BigDataAnalysis-HYU-IE\\\\venv\\\\lib', 'C:\\\\']\n",
      "  INFO:   NOT AVAILABLE\n",
      "  INFO:\n",
      "  C:\\Users\\user\\AppData\\Local\\Temp\\pip-build-env-1znn_cjs\\overlay\\Lib\\site-packages\\numpy\\distutils\\system_info.py:1902: UserWarning:\n",
      "      Lapack (http://www.netlib.org/lapack/) libraries not found.\n",
      "      Directories to search for the libraries can be specified in the\n",
      "      numpy/distutils/site.cfg file (section [lapack]) or by setting\n",
      "      the LAPACK environment variable.\n",
      "    return getattr(self, '_calc_info_{}'.format(name))()\n",
      "  INFO: lapack_src_info:\n",
      "  INFO:   NOT AVAILABLE\n",
      "  INFO:\n",
      "  C:\\Users\\user\\AppData\\Local\\Temp\\pip-build-env-1znn_cjs\\overlay\\Lib\\site-packages\\numpy\\distutils\\system_info.py:1902: UserWarning:\n",
      "      Lapack (http://www.netlib.org/lapack/) sources not found.\n",
      "      Directories to search for the sources can be specified in the\n",
      "      numpy/distutils/site.cfg file (section [lapack_src]) or by setting\n",
      "      the LAPACK_SRC environment variable.\n",
      "    return getattr(self, '_calc_info_{}'.format(name))()\n",
      "  INFO:   NOT AVAILABLE\n",
      "  INFO:\n",
      "  Traceback (most recent call last):\n",
      "    File \"C:\\Users\\user\\PycharmProjects\\BigDataAnalysis-HYU-IE\\venv\\lib\\site-packages\\pip\\_vendor\\pep517\\in_process\\_in_process.py\", line 351, in <module>\n",
      "      main()\n",
      "    File \"C:\\Users\\user\\PycharmProjects\\BigDataAnalysis-HYU-IE\\venv\\lib\\site-packages\\pip\\_vendor\\pep517\\in_process\\_in_process.py\", line 333, in main\n",
      "      json_out['return_val'] = hook(**hook_input['kwargs'])\n",
      "    File \"C:\\Users\\user\\PycharmProjects\\BigDataAnalysis-HYU-IE\\venv\\lib\\site-packages\\pip\\_vendor\\pep517\\in_process\\_in_process.py\", line 152, in prepare_metadata_for_build_wheel\n",
      "      return hook(metadata_directory, config_settings)\n",
      "    File \"C:\\Users\\user\\AppData\\Local\\Temp\\pip-build-env-1znn_cjs\\overlay\\Lib\\site-packages\\setuptools\\build_meta.py\", line 161, in prepare_metadata_for_build_wheel\n",
      "      self.run_setup()\n",
      "    File \"C:\\Users\\user\\AppData\\Local\\Temp\\pip-build-env-1znn_cjs\\overlay\\Lib\\site-packages\\setuptools\\build_meta.py\", line 253, in run_setup\n",
      "      super(_BuildMetaLegacyBackend,\n",
      "    File \"C:\\Users\\user\\AppData\\Local\\Temp\\pip-build-env-1znn_cjs\\overlay\\Lib\\site-packages\\setuptools\\build_meta.py\", line 145, in run_setup\n",
      "      exec(compile(code, __file__, 'exec'), locals())\n",
      "    File \"setup.py\", line 588, in <module>\n",
      "      setup_package()\n",
      "    File \"setup.py\", line 584, in setup_package\n",
      "      setup(**metadata)\n",
      "    File \"C:\\Users\\user\\AppData\\Local\\Temp\\pip-build-env-1znn_cjs\\overlay\\Lib\\site-packages\\numpy\\distutils\\core.py\", line 135, in setup\n",
      "      config = configuration()\n",
      "    File \"setup.py\", line 499, in configuration\n",
      "      raise NotFoundError(msg)\n",
      "  numpy.distutils.system_info.NotFoundError: No BLAS/LAPACK libraries found.\n",
      "  To build Scipy from sources, BLAS & LAPACK libraries need to be installed.\n",
      "  See site.cfg.example in the Scipy source directory and\n",
      "  https://docs.scipy.org/doc/scipy/reference/building/index.html for details.\n",
      "  [end of output]\n",
      "  \n",
      "  note: This error originates from a subprocess, and is likely not a problem with pip.\n",
      "error: metadata-generation-failed\n",
      "\n",
      "Encountered error while generating package metadata.\n",
      "\n",
      "See above for output.\n",
      "\n",
      "note: This is an issue with the package mentioned above, not pip.\n",
      "hint: See above for details.\n",
      "\n",
      "[notice] A new release of pip available: 22.3.1 -> 23.1.2\n",
      "[notice] To update, run: python.exe -m pip install --upgrade pip\n"
     ]
    },
    {
     "ename": "ModuleNotFoundError",
     "evalue": "No module named 'datawig'",
     "output_type": "error",
     "traceback": [
      "\u001B[1;31m---------------------------------------------------------------------------\u001B[0m",
      "\u001B[1;31mModuleNotFoundError\u001B[0m                       Traceback (most recent call last)",
      "Cell \u001B[1;32mIn[3], line 2\u001B[0m\n\u001B[0;32m      1\u001B[0m get_ipython()\u001B[38;5;241m.\u001B[39msystem(\u001B[38;5;124m'\u001B[39m\u001B[38;5;124mpip install datawig\u001B[39m\u001B[38;5;124m'\u001B[39m)\n\u001B[1;32m----> 2\u001B[0m \u001B[38;5;28;01mimport\u001B[39;00m \u001B[38;5;21;01mdatawig\u001B[39;00m\n\u001B[0;32m      4\u001B[0m input_columns \u001B[38;5;241m=\u001B[39m \u001B[38;5;28mlist\u001B[39m(\u001B[38;5;28mset\u001B[39m(df\u001B[38;5;241m.\u001B[39mcolumns) \u001B[38;5;241m-\u001B[39m \u001B[38;5;28mset\u001B[39m([\u001B[38;5;124m'\u001B[39m\u001B[38;5;124mrequired_experience\u001B[39m\u001B[38;5;124m'\u001B[39m]))\n\u001B[0;32m      5\u001B[0m imputer \u001B[38;5;241m=\u001B[39m datawig\u001B[38;5;241m.\u001B[39mSimpleImputer(input_columns\u001B[38;5;241m=\u001B[39minput_columns,\n\u001B[0;32m      6\u001B[0m                                 output_column\u001B[38;5;241m=\u001B[39m\u001B[38;5;124m'\u001B[39m\u001B[38;5;124mrequired_experience\u001B[39m\u001B[38;5;124m'\u001B[39m)\n",
      "\u001B[1;31mModuleNotFoundError\u001B[0m: No module named 'datawig'"
     ]
    }
   ],
   "source": [
    "!pip install datawig\n",
    "import datawig\n",
    "\n",
    "input_columns = list(set(df.columns) - set(['required_experience']))\n",
    "imputer = datawig.SimpleImputer(input_columns=input_columns,\n",
    "                                output_column='required_experience')\n",
    "\n"
   ],
   "metadata": {
    "collapsed": false
   }
  },
  {
   "cell_type": "code",
   "execution_count": null,
   "outputs": [],
   "source": [
    "imputer.fit(train_df=df, num_epochs=50)\n",
    "null_train = train[train['결측치를 포함하는 변수명'].isnull()]\n",
    "null_imputed = imputer.predict(null_train)\n",
    "imputed_train = pd.DataFrame(null_imputed)"
   ],
   "metadata": {
    "collapsed": false
   }
  },
  {
   "cell_type": "code",
   "execution_count": 176,
   "outputs": [
    {
     "name": "stdout",
     "output_type": "stream",
     "text": [
      "required_education 의 unique col 개수(nan포함) : 14\n",
      "required_education 의 missing 개수 : 8027\n",
      "required_education\n",
      "Bachelor's Degree                    5088\n",
      "High School or equivalent            2075\n",
      "Unspecified                          1386\n",
      "Master's Degree                       405\n",
      "Associate Degree                      274\n",
      "Certification                         170\n",
      "Some College Coursework Completed     100\n",
      "Professional                           71\n",
      "Vocational                             49\n",
      "Doctorate                              26\n",
      "Some High School Coursework            25\n",
      "Vocational - HS Diploma                 8\n",
      "Vocational - Degree                     6\n",
      "Name: count, dtype: int64\n"
     ]
    },
    {
     "data": {
      "text/plain": "<Axes: xlabel='required_education', ylabel='fraudulent'>"
     },
     "execution_count": 176,
     "metadata": {},
     "output_type": "execute_result"
    },
    {
     "data": {
      "text/plain": "<Figure size 640x480 with 1 Axes>",
      "image/png": "[encoded data removed]"
     },
     "metadata": {},
     "output_type": "display_data"
    }
   ],
   "source": [
    "# required_education 전처리\n",
    "print('required_education 의 unique col 개수(nan포함) :',len(df['required_education'].unique()))\n",
    "print('required_education 의 missing 개수 :',df['required_education'].isnull().sum())\n",
    "print(df['required_education'].value_counts())\n",
    "sns.barplot(data=df, x='required_education',y='fraudulent')"
   ],
   "metadata": {
    "collapsed": false
   }
  },
  {
   "cell_type": "code",
   "execution_count": 206,
   "outputs": [],
   "source": [
    "# 같은 내용은 같은 카테고리로 분류\n",
    "# 학사,고등,unspecified,ms,asoociate(준학사),certification은 자격증인데 따로두겠음,박사(profession).\n",
    "# na->unspecified\n",
    "# college 코스 completed -> 학사\n",
    "# vocational -> 최소 고졸도 포함이므로 고졸\n",
    "# doctorate -> 박사\n",
    "# high school course -> 고졸\n",
    "# hs diploma-> 고졸\n",
    "# degree -> 대졸\n",
    "\n",
    "# 아래 코드 왜 안되는지 모르겠네 후..\n",
    "# df[df['required_education'].isna() ==True ]['required_education'] = \"Unspecified\"\n",
    "#\n",
    "# df[df['required_education']=='Some High School Coursework']['required_education'] = 'High School or equivalent'\n",
    "# df[df['required_education']=='Vocational - HS Diploma']['required_education'] = 'High School or equivalent'\n",
    "# df[df['required_education']=='Vocational']['required_education'] = \"High School or equivalent\"\n",
    "#\n",
    "# df[df['required_education']=='Some College Coursework Completed']['required_education'] = \"Bachelor's Degree\"\n",
    "#\n",
    "# df[df['required_education']=='Doctorate']['required_education'] = \"Professional\""
   ],
   "metadata": {
    "collapsed": false
   }
  },
  {
   "cell_type": "code",
   "execution_count": 251,
   "outputs": [
    {
     "name": "stdout",
     "output_type": "stream",
     "text": [
      "required_education 의 unique col 개수(nan포함) : 7\n",
      "required_education 의 missing 개수 : 0\n",
      "required_education\n",
      "Unspecified                  9413\n",
      "Bachelor's Degree            5188\n",
      "High School or equivalent    2163\n",
      "Master's Degree               405\n",
      "Associate Degree              274\n",
      "Certification                 170\n",
      "Professional                   97\n",
      "Name: count, dtype: int64\n"
     ]
    },
    {
     "data": {
      "text/plain": "<Axes: xlabel='required_education', ylabel='fraudulent'>"
     },
     "execution_count": 251,
     "metadata": {},
     "output_type": "execute_result"
    },
    {
     "data": {
      "text/plain": "<Figure size 2000x500 with 1 Axes>",
      "image/png": "[encoded data removed]"
     },
     "metadata": {},
     "output_type": "display_data"
    }
   ],
   "source": [
    "def replace_edu(rowdata):\n",
    "    name = rowdata['required_education']\n",
    "\n",
    "    if name == 'Some High School Coursework':\n",
    "        return 'High School or equivalent'\n",
    "    elif name == 'Vocational - HS Diploma':\n",
    "        return 'High School or equivalent'\n",
    "    elif name == 'Vocational - Degree':\n",
    "        return 'High School or equivalent'\n",
    "    elif name == 'Vocational':\n",
    "        return 'High School or equivalent'\n",
    "    elif name == 'Some College Coursework Completed':\n",
    "        return \"Bachelor's Degree\"\n",
    "    elif name == 'Doctorate':\n",
    "        return \"Professional\"\n",
    "    elif str(name) == 'nan':\n",
    "        return \"Unspecified\"\n",
    "    else:\n",
    "        return name\n",
    "\n",
    "df['required_education'] = df.apply(replace_edu, axis=1)\n",
    "print('required_education 의 unique col 개수(nan포함) :',len(df['required_education'].unique()))\n",
    "print('required_education 의 missing 개수 :',df['required_education'].isnull().sum())\n",
    "print(df['required_education'].value_counts())\n",
    "fig , ax = plt.subplots(1,1,figsize=(20,5))\n",
    "sns.barplot(data=df, x='required_education',y='fraudulent')"
   ],
   "metadata": {
    "collapsed": false
   }
  },
  {
   "cell_type": "code",
   "execution_count": 247,
   "outputs": [
    {
     "name": "stdout",
     "output_type": "stream",
     "text": [
      "employment_type\n",
      "Full-time    11503\n",
      "Contract      1516\n",
      "Part-time      795\n",
      "Temporary      240\n",
      "Other          226\n",
      "Name: count, dtype: int64\n",
      "employment_type 의 missing 개수 : 3430\n"
     ]
    },
    {
     "data": {
      "text/plain": "<Axes: xlabel='employment_type', ylabel='fraudulent'>"
     },
     "execution_count": 247,
     "metadata": {},
     "output_type": "execute_result"
    },
    {
     "data": {
      "text/plain": "<Figure size 640x480 with 1 Axes>",
      "image/png": "[encoded data removed]"
     },
     "metadata": {},
     "output_type": "display_data"
    }
   ],
   "source": [
    "# employment_type 전처리\n",
    "\n",
    "print(df['employment_type'].value_counts())\n",
    "print('employment_type 의 missing 개수 :',df['employment_type'].isnull().sum())\n",
    "df['employment_type'].value_counts()\n",
    "sns.barplot(data=df, x='employment_type',y='fraudulent')"
   ],
   "metadata": {
    "collapsed": false
   }
  },
  {
   "cell_type": "code",
   "execution_count": 253,
   "outputs": [
    {
     "name": "stdout",
     "output_type": "stream",
     "text": [
      "industry\n",
      "Information Technology and Services    1698\n",
      "Computer Software                      1368\n",
      "Internet                               1058\n",
      "Marketing and Advertising               823\n",
      "Education Management                    813\n",
      "                                       ... \n",
      "Shipbuilding                              1\n",
      "Sporting Goods                            1\n",
      "Museums and Institutions                  1\n",
      "Wine and Spirits                          1\n",
      "Ranching                                  1\n",
      "Name: count, Length: 131, dtype: int64\n",
      "industry 의 missing 개수 : 4856\n"
     ]
    },
    {
     "data": {
      "text/plain": "industry\nInformation Technology and Services    1698\nComputer Software                      1368\nInternet                               1058\nMarketing and Advertising               823\nEducation Management                    813\n                                       ... \nShipbuilding                              1\nSporting Goods                            1\nMuseums and Institutions                  1\nWine and Spirits                          1\nRanching                                  1\nName: count, Length: 131, dtype: int64"
     },
     "execution_count": 253,
     "metadata": {},
     "output_type": "execute_result"
    }
   ],
   "source": [
    "# industry 전처리\n",
    "\n",
    "print(df['industry'].value_counts())\n",
    "print('industry 의 missing 개수 :',df['industry'].isnull().sum())\n",
    "df['industry'].value_counts()\n",
    "# sns.barplot(data=df, x='industry',y='fraudulent')"
   ],
   "metadata": {
    "collapsed": false
   }
  },
  {
   "cell_type": "code",
   "execution_count": 254,
   "outputs": [
    {
     "name": "stdout",
     "output_type": "stream",
     "text": [
      "function\n",
      "Information Technology    1730\n",
      "Sales                     1455\n",
      "Engineering               1334\n",
      "Customer Service          1222\n",
      "Marketing                  823\n",
      "Administrative             627\n",
      "Health Care Provider       337\n",
      "Design                     336\n",
      "Other                      322\n",
      "Education                  316\n",
      "Management                 311\n",
      "Business Development       220\n",
      "Accounting/Auditing        206\n",
      "Human Resources            204\n",
      "Project Management         183\n",
      "Finance                    170\n",
      "Consulting                 143\n",
      "Writing/Editing            131\n",
      "Art/Creative               131\n",
      "Production                 116\n",
      "Product Management         112\n",
      "Quality Assurance          111\n",
      "Advertising                 90\n",
      "Business Analyst            84\n",
      "Data Analyst                80\n",
      "Public Relations            76\n",
      "Manufacturing               74\n",
      "General Business            68\n",
      "Research                    50\n",
      "Legal                       47\n",
      "Strategy/Planning           46\n",
      "Training                    37\n",
      "Supply Chain                36\n",
      "Financial Analyst           33\n",
      "Distribution                24\n",
      "Purchasing                  15\n",
      "Science                     14\n",
      "Name: count, dtype: int64\n",
      "function 의 missing 개수 : 6396\n"
     ]
    },
    {
     "data": {
      "text/plain": "function\nInformation Technology    1730\nSales                     1455\nEngineering               1334\nCustomer Service          1222\nMarketing                  823\nAdministrative             627\nHealth Care Provider       337\nDesign                     336\nOther                      322\nEducation                  316\nManagement                 311\nBusiness Development       220\nAccounting/Auditing        206\nHuman Resources            204\nProject Management         183\nFinance                    170\nConsulting                 143\nWriting/Editing            131\nArt/Creative               131\nProduction                 116\nProduct Management         112\nQuality Assurance          111\nAdvertising                 90\nBusiness Analyst            84\nData Analyst                80\nPublic Relations            76\nManufacturing               74\nGeneral Business            68\nResearch                    50\nLegal                       47\nStrategy/Planning           46\nTraining                    37\nSupply Chain                36\nFinancial Analyst           33\nDistribution                24\nPurchasing                  15\nScience                     14\nName: count, dtype: int64"
     },
     "execution_count": 254,
     "metadata": {},
     "output_type": "execute_result"
    }
   ],
   "source": [
    "# function 전처리 ( 필요시 nan이면 title에서 추출해오면 될 것 같기도 하고)\n",
    "\n",
    "print(df['function'].value_counts())\n",
    "print('function 의 missing 개수 :',df['function'].isnull().sum())\n",
    "df['function'].value_counts()\n",
    "# sns.barplot(data=df, x='function',y='fraudulent')"
   ],
   "metadata": {
    "collapsed": false
   }
  },
  {
   "cell_type": "code",
   "execution_count": null,
   "outputs": [],
   "source": [],
   "metadata": {
    "collapsed": false
   }
  },
  {
   "cell_type": "code",
   "execution_count": 76,
   "outputs": [
    {
     "name": "stdout",
     "output_type": "stream",
     "text": [
      "has_company_logo\n",
      "1    14220\n",
      "0     3660\n",
      "Name: count, dtype: int64\n",
      "company_logo 의 missing 개수 : 0\n"
     ]
    },
    {
     "data": {
      "text/plain": "<Axes: xlabel='has_company_logo', ylabel='fraudulent'>"
     },
     "execution_count": 76,
     "metadata": {},
     "output_type": "execute_result"
    },
    {
     "data": {
      "text/plain": "<Figure size 640x480 with 1 Axes>",
      "image/png": "[encoded data removed]"
     },
     "metadata": {},
     "output_type": "display_data"
    }
   ],
   "source": [
    "# has_company_logo 영향 유무\n",
    "\n",
    "print(df['has_company_logo'].value_counts())\n",
    "print('company_logo 의 missing 개수 :',df['has_company_logo'].isnull().sum())\n",
    "sns.barplot(data=df, x='has_company_logo',y='fraudulent')"
   ],
   "metadata": {
    "collapsed": false
   }
  },
  {
   "cell_type": "code",
   "execution_count": null,
   "outputs": [],
   "source": [],
   "metadata": {
    "collapsed": false
   }
  }
 ],
 "metadata": {
  "kernelspec": {
   "display_name": "Python 3",
   "language": "python",
   "name": "python3"
  },
  "language_info": {
   "codemirror_mode": {
    "name": "ipython",
    "version": 2
   },
   "file_extension": ".py",
   "mimetype": "text/x-python",
   "name": "python",
   "nbconvert_exporter": "python",
   "pygments_lexer": "ipython2",
   "version": "2.7.6"
  }
 },
 "nbformat": 4,
 "nbformat_minor": 0
}
